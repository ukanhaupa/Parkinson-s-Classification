{
 "cells": [
  {
   "cell_type": "markdown",
   "metadata": {},
   "source": [
    "The dataset used in this notebook can be downloaded on this link: https://archive.ics.uci.edu/ml/datasets/parkinsons"
   ]
  },
  {
   "cell_type": "code",
   "execution_count": 18,
   "metadata": {},
   "outputs": [
    {
     "data": {
      "image/jpeg": "[encoded data removed]",
      "text/plain": [
       "<IPython.core.display.Image object>"
      ]
     },
     "execution_count": 18,
     "metadata": {},
     "output_type": "execute_result"
    }
   ],
   "source": [
    "import matplotlib.pyplot as plt\n",
    "import pandas as pd\n",
    "import numpy as np\n",
    "%matplotlib inline\n",
    "from IPython.core.display import Image\n",
    "Image(filename='brain-activity.jpg')"
   ]
  },
  {
   "cell_type": "code",
   "execution_count": 93,
   "metadata": {},
   "outputs": [],
   "source": [
    "# import warnings filter\n",
    "from warnings import simplefilter\n",
    "# ignore all future warnings\n",
    "simplefilter(action='ignore', category=FutureWarning)\n",
    "simplefilter(action='ignore', category=DeprecationWarning)"
   ]
  },
  {
   "cell_type": "code",
   "execution_count": 94,
   "metadata": {},
   "outputs": [],
   "source": [
    "parkinson_data = pd.read_csv(\"parkinsons_data.txt\")"
   ]
  },
  {
   "cell_type": "code",
   "execution_count": 95,
   "metadata": {},
   "outputs": [
    {
     "data": {
      "text/html": [
       "<div>\n",
       "<style scoped>\n",
       "    .dataframe tbody tr th:only-of-type {\n",
       "        vertical-align: middle;\n",
       "    }\n",
       "\n",
       "    .dataframe tbody tr th {\n",
       "        vertical-align: top;\n",
       "    }\n",
       "\n",
       "    .dataframe thead th {\n",
       "        text-align: right;\n",
       "    }\n",
       "</style>\n",
       "<table border=\"1\" class=\"dataframe\">\n",
       "  <thead>\n",
       "    <tr style=\"text-align: right;\">\n",
       "      <th></th>\n",
       "      <th>subject#</th>\n",
       "      <th>age</th>\n",
       "      <th>sex</th>\n",
       "      <th>test_time</th>\n",
       "      <th>motor_UPDRS</th>\n",
       "      <th>total_UPDRS</th>\n",
       "      <th>Jitter(%)</th>\n",
       "      <th>Jitter(Abs)</th>\n",
       "      <th>Jitter:RAP</th>\n",
       "      <th>Jitter:PPQ5</th>\n",
       "      <th>...</th>\n",
       "      <th>Shimmer(dB)</th>\n",
       "      <th>Shimmer:APQ3</th>\n",
       "      <th>Shimmer:APQ5</th>\n",
       "      <th>Shimmer:APQ11</th>\n",
       "      <th>Shimmer:DDA</th>\n",
       "      <th>NHR</th>\n",
       "      <th>HNR</th>\n",
       "      <th>RPDE</th>\n",
       "      <th>DFA</th>\n",
       "      <th>PPE</th>\n",
       "    </tr>\n",
       "  </thead>\n",
       "  <tbody>\n",
       "    <tr>\n",
       "      <th>0</th>\n",
       "      <td>1</td>\n",
       "      <td>72</td>\n",
       "      <td>0</td>\n",
       "      <td>5.6431</td>\n",
       "      <td>28.199</td>\n",
       "      <td>34.398</td>\n",
       "      <td>0.00662</td>\n",
       "      <td>0.000034</td>\n",
       "      <td>0.00401</td>\n",
       "      <td>0.00317</td>\n",
       "      <td>...</td>\n",
       "      <td>0.230</td>\n",
       "      <td>0.01438</td>\n",
       "      <td>0.01309</td>\n",
       "      <td>0.01662</td>\n",
       "      <td>0.04314</td>\n",
       "      <td>0.014290</td>\n",
       "      <td>21.640</td>\n",
       "      <td>0.41888</td>\n",
       "      <td>0.54842</td>\n",
       "      <td>0.16006</td>\n",
       "    </tr>\n",
       "    <tr>\n",
       "      <th>1</th>\n",
       "      <td>1</td>\n",
       "      <td>72</td>\n",
       "      <td>0</td>\n",
       "      <td>12.6660</td>\n",
       "      <td>28.447</td>\n",
       "      <td>34.894</td>\n",
       "      <td>0.00300</td>\n",
       "      <td>0.000017</td>\n",
       "      <td>0.00132</td>\n",
       "      <td>0.00150</td>\n",
       "      <td>...</td>\n",
       "      <td>0.179</td>\n",
       "      <td>0.00994</td>\n",
       "      <td>0.01072</td>\n",
       "      <td>0.01689</td>\n",
       "      <td>0.02982</td>\n",
       "      <td>0.011112</td>\n",
       "      <td>27.183</td>\n",
       "      <td>0.43493</td>\n",
       "      <td>0.56477</td>\n",
       "      <td>0.10810</td>\n",
       "    </tr>\n",
       "    <tr>\n",
       "      <th>2</th>\n",
       "      <td>1</td>\n",
       "      <td>72</td>\n",
       "      <td>0</td>\n",
       "      <td>19.6810</td>\n",
       "      <td>28.695</td>\n",
       "      <td>35.389</td>\n",
       "      <td>0.00481</td>\n",
       "      <td>0.000025</td>\n",
       "      <td>0.00205</td>\n",
       "      <td>0.00208</td>\n",
       "      <td>...</td>\n",
       "      <td>0.181</td>\n",
       "      <td>0.00734</td>\n",
       "      <td>0.00844</td>\n",
       "      <td>0.01458</td>\n",
       "      <td>0.02202</td>\n",
       "      <td>0.020220</td>\n",
       "      <td>23.047</td>\n",
       "      <td>0.46222</td>\n",
       "      <td>0.54405</td>\n",
       "      <td>0.21014</td>\n",
       "    </tr>\n",
       "    <tr>\n",
       "      <th>3</th>\n",
       "      <td>1</td>\n",
       "      <td>72</td>\n",
       "      <td>0</td>\n",
       "      <td>25.6470</td>\n",
       "      <td>28.905</td>\n",
       "      <td>35.810</td>\n",
       "      <td>0.00528</td>\n",
       "      <td>0.000027</td>\n",
       "      <td>0.00191</td>\n",
       "      <td>0.00264</td>\n",
       "      <td>...</td>\n",
       "      <td>0.327</td>\n",
       "      <td>0.01106</td>\n",
       "      <td>0.01265</td>\n",
       "      <td>0.01963</td>\n",
       "      <td>0.03317</td>\n",
       "      <td>0.027837</td>\n",
       "      <td>24.445</td>\n",
       "      <td>0.48730</td>\n",
       "      <td>0.57794</td>\n",
       "      <td>0.33277</td>\n",
       "    </tr>\n",
       "    <tr>\n",
       "      <th>4</th>\n",
       "      <td>1</td>\n",
       "      <td>72</td>\n",
       "      <td>0</td>\n",
       "      <td>33.6420</td>\n",
       "      <td>29.187</td>\n",
       "      <td>36.375</td>\n",
       "      <td>0.00335</td>\n",
       "      <td>0.000020</td>\n",
       "      <td>0.00093</td>\n",
       "      <td>0.00130</td>\n",
       "      <td>...</td>\n",
       "      <td>0.176</td>\n",
       "      <td>0.00679</td>\n",
       "      <td>0.00929</td>\n",
       "      <td>0.01819</td>\n",
       "      <td>0.02036</td>\n",
       "      <td>0.011625</td>\n",
       "      <td>26.126</td>\n",
       "      <td>0.47188</td>\n",
       "      <td>0.56122</td>\n",
       "      <td>0.19361</td>\n",
       "    </tr>\n",
       "  </tbody>\n",
       "</table>\n",
       "<p>5 rows × 22 columns</p>\n",
       "</div>"
      ],
      "text/plain": [
       "   subject#  age  sex  test_time  motor_UPDRS  total_UPDRS  Jitter(%)  \\\n",
       "0         1   72    0     5.6431       28.199       34.398    0.00662   \n",
       "1         1   72    0    12.6660       28.447       34.894    0.00300   \n",
       "2         1   72    0    19.6810       28.695       35.389    0.00481   \n",
       "3         1   72    0    25.6470       28.905       35.810    0.00528   \n",
       "4         1   72    0    33.6420       29.187       36.375    0.00335   \n",
       "\n",
       "   Jitter(Abs)  Jitter:RAP  Jitter:PPQ5  ...  Shimmer(dB)  Shimmer:APQ3  \\\n",
       "0     0.000034     0.00401      0.00317  ...        0.230       0.01438   \n",
       "1     0.000017     0.00132      0.00150  ...        0.179       0.00994   \n",
       "2     0.000025     0.00205      0.00208  ...        0.181       0.00734   \n",
       "3     0.000027     0.00191      0.00264  ...        0.327       0.01106   \n",
       "4     0.000020     0.00093      0.00130  ...        0.176       0.00679   \n",
       "\n",
       "   Shimmer:APQ5  Shimmer:APQ11  Shimmer:DDA       NHR     HNR     RPDE  \\\n",
       "0       0.01309        0.01662      0.04314  0.014290  21.640  0.41888   \n",
       "1       0.01072        0.01689      0.02982  0.011112  27.183  0.43493   \n",
       "2       0.00844        0.01458      0.02202  0.020220  23.047  0.46222   \n",
       "3       0.01265        0.01963      0.03317  0.027837  24.445  0.48730   \n",
       "4       0.00929        0.01819      0.02036  0.011625  26.126  0.47188   \n",
       "\n",
       "       DFA      PPE  \n",
       "0  0.54842  0.16006  \n",
       "1  0.56477  0.10810  \n",
       "2  0.54405  0.21014  \n",
       "3  0.57794  0.33277  \n",
       "4  0.56122  0.19361  \n",
       "\n",
       "[5 rows x 22 columns]"
      ]
     },
     "execution_count": 95,
     "metadata": {},
     "output_type": "execute_result"
    }
   ],
   "source": [
    "parkinson_data.head()"
   ]
  },
  {
   "cell_type": "raw",
   "metadata": {
    "collapsed": true
   },
   "source": [
    "Attribute Information:\n",
    "\n",
    "Matrix column entries (attributes): \n",
    "name - ASCII subject name and recording number \n",
    "MDVP:Fo(Hz) - Average vocal fundamental frequency \n",
    "MDVP:Fhi(Hz) - Maximum vocal fundamental frequency \n",
    "MDVP:Flo(Hz) - Minimum vocal fundamental frequency \n",
    "MDVP:Jitter(%),MDVP:Jitter(Abs),MDVP:RAP,MDVP:PPQ,Jitter:DDP - Several measures of variation in fundamental frequency \n",
    "MDVP:Shimmer,MDVP:Shimmer(dB),Shimmer:APQ3,Shimmer:APQ5,MDVP:APQ,Shimmer:DDA - Several measures of variation in amplitude \n",
    "NHR,HNR - Two measures of ratio of noise to tonal components in the voice \n",
    "status - Health status of the subject (one) - Parkinson's, (zero) - healthy \n",
    "RPDE,D2 - Two nonlinear dynamical complexity measures \n",
    "DFA - Signal fractal scaling exponent \n",
    "spread1,spread2,PPE - Three nonlinear measures of fundamental frequency variation "
   ]
  },
  {
   "cell_type": "markdown",
   "metadata": {},
   "source": [
    "## Step 1 Data preprocessing"
   ]
  },
  {
   "cell_type": "markdown",
   "metadata": {},
   "source": [
    "Steps that we need to do with this data before doing the prediction part:\n",
    "    1. Split data to Features and labels\n",
    "    2. Scale features to the same scale\n",
    "    3. Split data into training and testing portion\n",
    "    B. Bonus will be to find what features are most 'importatnt'"
   ]
  },
  {
   "cell_type": "markdown",
   "metadata": {},
   "source": [
    "###  Step 1.1 Features vs Labels"
   ]
  },
  {
   "cell_type": "code",
   "execution_count": 96,
   "metadata": {},
   "outputs": [],
   "source": [
    "labels = parkinson_data.iloc[:, 0].values\n",
    "features = parkinson_data.iloc[:, 1:].values"
   ]
  },
  {
   "cell_type": "code",
   "execution_count": 97,
   "metadata": {},
   "outputs": [
    {
     "name": "stdout",
     "output_type": "stream",
     "text": [
      "(5875, 21)\n",
      "1\n"
     ]
    }
   ],
   "source": [
    "print(features.shape)\n",
    "print(labels[0])"
   ]
  },
  {
   "cell_type": "markdown",
   "metadata": {},
   "source": [
    "### Step 1.2 Scale data"
   ]
  },
  {
   "cell_type": "code",
   "execution_count": 98,
   "metadata": {},
   "outputs": [],
   "source": [
    "from sklearn.preprocessing import StandardScaler"
   ]
  },
  {
   "cell_type": "code",
   "execution_count": 99,
   "metadata": {},
   "outputs": [],
   "source": [
    "scaler = StandardScaler()\n",
    "scled_features = scaler.fit_transform(features)"
   ]
  },
  {
   "cell_type": "markdown",
   "metadata": {},
   "source": [
    "### Step 1.3 Splitting data into Training and test portions"
   ]
  },
  {
   "cell_type": "code",
   "execution_count": 100,
   "metadata": {},
   "outputs": [],
   "source": [
    "from sklearn.model_selection import train_test_split"
   ]
  },
  {
   "cell_type": "code",
   "execution_count": 101,
   "metadata": {},
   "outputs": [],
   "source": [
    "X_train, X_test, y_train, y_test = train_test_split(scled_features, labels, test_size=0.3)"
   ]
  },
  {
   "cell_type": "code",
   "execution_count": 102,
   "metadata": {},
   "outputs": [
    {
     "name": "stdout",
     "output_type": "stream",
     "text": [
      "X_train shape -- > (4112, 21)\n",
      "y_train shape -- > (4112,)\n",
      "X_test shape -- > (1763, 21)\n",
      "y_test shape -- > (1763,)\n"
     ]
    }
   ],
   "source": [
    "print(\"X_train shape -- > {}\".format(X_train.shape))\n",
    "print(\"y_train shape -- > {}\".format(y_train.shape))\n",
    "print(\"X_test shape -- > {}\".format(X_test.shape))\n",
    "print(\"y_test shape -- > {}\".format(y_test.shape))"
   ]
  },
  {
   "cell_type": "markdown",
   "metadata": {},
   "source": [
    "### Step 1.B (Optional) Feature engineering (selection)"
   ]
  },
  {
   "cell_type": "code",
   "execution_count": 103,
   "metadata": {},
   "outputs": [],
   "source": [
    "from sklearn.ensemble import ExtraTreesClassifier"
   ]
  },
  {
   "cell_type": "code",
   "execution_count": 104,
   "metadata": {},
   "outputs": [],
   "source": [
    "etc = ExtraTreesClassifier(n_estimators=300)"
   ]
  },
  {
   "cell_type": "code",
   "execution_count": 105,
   "metadata": {},
   "outputs": [
    {
     "data": {
      "text/plain": [
       "ExtraTreesClassifier(bootstrap=False, class_weight=None, criterion='gini',\n",
       "                     max_depth=None, max_features='auto', max_leaf_nodes=None,\n",
       "                     min_impurity_decrease=0.0, min_impurity_split=None,\n",
       "                     min_samples_leaf=1, min_samples_split=2,\n",
       "                     min_weight_fraction_leaf=0.0, n_estimators=300,\n",
       "                     n_jobs=None, oob_score=False, random_state=None, verbose=0,\n",
       "                     warm_start=False)"
      ]
     },
     "execution_count": 105,
     "metadata": {},
     "output_type": "execute_result"
    }
   ],
   "source": [
    "etc.fit(X_train, y_train)"
   ]
  },
  {
   "cell_type": "code",
   "execution_count": 106,
   "metadata": {},
   "outputs": [
    {
     "name": "stdout",
     "output_type": "stream",
     "text": [
      "[0.28492576 0.05669009 0.02557723 0.12117117 0.12460125 0.01710184\n",
      " 0.02934429 0.01591448 0.01849381 0.01593078 0.01885947 0.0179996\n",
      " 0.01934337 0.0198795  0.01999814 0.01900555 0.01577864 0.03214529\n",
      " 0.0303261  0.07061786 0.0262958 ]\n"
     ]
    }
   ],
   "source": [
    "print(etc.feature_importances_)\n",
    "indices = np.argsort(etc.feature_importances_)[::-1]"
   ]
  },
  {
   "cell_type": "code",
   "execution_count": 107,
   "metadata": {},
   "outputs": [
    {
     "data": {
      "image/png": "[encoded data removed]",
      "text/plain": [
       "<Figure size 1120x800 with 1 Axes>"
      ]
     },
     "metadata": {},
     "output_type": "display_data"
    }
   ],
   "source": [
    "plt.figure(num=None, figsize=(14, 10), dpi=80, facecolor='w')\n",
    "plt.title(\"Feature importances\")\n",
    "plt.bar(range(features.shape[1]), etc.feature_importances_[indices],\n",
    "       color=\"r\", align=\"center\")\n",
    "plt.xticks(range(features.shape[1]), indices)\n",
    "plt.show()"
   ]
  },
  {
   "cell_type": "markdown",
   "metadata": {},
   "source": [
    "## Step 2 Prediction"
   ]
  },
  {
   "cell_type": "markdown",
   "metadata": {},
   "source": [
    "### Step 2.1 Simple algorithms"
   ]
  },
  {
   "cell_type": "code",
   "execution_count": 108,
   "metadata": {},
   "outputs": [],
   "source": [
    "from sklearn.metrics import accuracy_score\n",
    "from sklearn.model_selection import GridSearchCV\n",
    "from sklearn.model_selection import cross_val_score"
   ]
  },
  {
   "cell_type": "markdown",
   "metadata": {},
   "source": [
    "#### Step 2.1.1 KNN"
   ]
  },
  {
   "cell_type": "code",
   "execution_count": 109,
   "metadata": {},
   "outputs": [],
   "source": [
    "from sklearn.neighbors import KNeighborsClassifier"
   ]
  },
  {
   "cell_type": "code",
   "execution_count": 110,
   "metadata": {},
   "outputs": [
    {
     "data": {
      "text/plain": [
       "KNeighborsClassifier(algorithm='auto', leaf_size=30, metric='minkowski',\n",
       "                     metric_params=None, n_jobs=None, n_neighbors=5, p=2,\n",
       "                     weights='uniform')"
      ]
     },
     "execution_count": 110,
     "metadata": {},
     "output_type": "execute_result"
    }
   ],
   "source": [
    "knn = KNeighborsClassifier()\n",
    "knn.fit(X_train, y_train)"
   ]
  },
  {
   "cell_type": "code",
   "execution_count": 111,
   "metadata": {},
   "outputs": [
    {
     "name": "stdout",
     "output_type": "stream",
     "text": [
      "KNN with k=5 got 91.03800340328985% accuracy on the test set.\n"
     ]
    }
   ],
   "source": [
    "print(\"KNN with k=5 got {}% accuracy on the test set.\".format(accuracy_score(y_test, knn.predict(X_test))*100))"
   ]
  },
  {
   "cell_type": "markdown",
   "metadata": {},
   "source": [
    "##### Step 2.1.1.1 KNN Grid search"
   ]
  },
  {
   "cell_type": "code",
   "execution_count": 112,
   "metadata": {},
   "outputs": [],
   "source": [
    "params_dict = {'n_neighbors':[3, 5, 9, 15], 'p':[1, 2, 3], 'algorithm':['auto', 'ball_tree', 'kd_tree', 'brute']}\n",
    "gs = GridSearchCV(knn, param_grid=params_dict, verbose=10, cv=10)"
   ]
  },
  {
   "cell_type": "code",
   "execution_count": 113,
   "metadata": {},
   "outputs": [
    {
     "name": "stdout",
     "output_type": "stream",
     "text": [
      "Fitting 10 folds for each of 48 candidates, totalling 480 fits\n",
      "[CV] algorithm=auto, n_neighbors=3, p=1 ..............................\n",
      "[CV] .. algorithm=auto, n_neighbors=3, p=1, score=0.916, total=   0.1s\n",
      "[CV] algorithm=auto, n_neighbors=3, p=1 ..............................\n",
      "[CV] .. algorithm=auto, n_neighbors=3, p=1, score=0.911, total=   0.0s\n",
      "[CV] algorithm=auto, n_neighbors=3, p=1 ..............................\n",
      "[CV] .. algorithm=auto, n_neighbors=3, p=1, score=0.943, total=   0.0s\n",
      "[CV] algorithm=auto, n_neighbors=3, p=1 ..............................\n"
     ]
    },
    {
     "name": "stderr",
     "output_type": "stream",
     "text": [
      "[Parallel(n_jobs=1)]: Using backend SequentialBackend with 1 concurrent workers.\n",
      "[Parallel(n_jobs=1)]: Done   1 out of   1 | elapsed:    0.0s remaining:    0.0s\n",
      "[Parallel(n_jobs=1)]: Done   2 out of   2 | elapsed:    0.0s remaining:    0.0s\n",
      "[Parallel(n_jobs=1)]: Done   3 out of   3 | elapsed:    0.0s remaining:    0.0s\n"
     ]
    },
    {
     "name": "stdout",
     "output_type": "stream",
     "text": [
      "[CV] .. algorithm=auto, n_neighbors=3, p=1, score=0.907, total=   0.1s\n",
      "[CV] algorithm=auto, n_neighbors=3, p=1 ..............................\n",
      "[CV] .. algorithm=auto, n_neighbors=3, p=1, score=0.930, total=   0.0s\n",
      "[CV] algorithm=auto, n_neighbors=3, p=1 ..............................\n",
      "[CV] .. algorithm=auto, n_neighbors=3, p=1, score=0.910, total=   0.0s\n",
      "[CV] algorithm=auto, n_neighbors=3, p=1 ..............................\n",
      "[CV] .. algorithm=auto, n_neighbors=3, p=1, score=0.914, total=   0.0s\n",
      "[CV] algorithm=auto, n_neighbors=3, p=1 ..............................\n",
      "[CV] .. algorithm=auto, n_neighbors=3, p=1, score=0.925, total=   0.0s\n"
     ]
    },
    {
     "name": "stderr",
     "output_type": "stream",
     "text": [
      "[Parallel(n_jobs=1)]: Done   4 out of   4 | elapsed:    0.1s remaining:    0.0s\n",
      "[Parallel(n_jobs=1)]: Done   5 out of   5 | elapsed:    0.2s remaining:    0.0s\n",
      "[Parallel(n_jobs=1)]: Done   6 out of   6 | elapsed:    0.2s remaining:    0.0s\n",
      "[Parallel(n_jobs=1)]: Done   7 out of   7 | elapsed:    0.3s remaining:    0.0s\n",
      "[Parallel(n_jobs=1)]: Done   8 out of   8 | elapsed:    0.3s remaining:    0.0s\n"
     ]
    },
    {
     "name": "stdout",
     "output_type": "stream",
     "text": [
      "[CV] algorithm=auto, n_neighbors=3, p=1 ..............................\n",
      "[CV] .. algorithm=auto, n_neighbors=3, p=1, score=0.914, total=   0.1s\n",
      "[CV] algorithm=auto, n_neighbors=3, p=1 ..............................\n",
      "[CV] .. algorithm=auto, n_neighbors=3, p=1, score=0.906, total=   0.0s\n",
      "[CV] algorithm=auto, n_neighbors=3, p=2 ..............................\n",
      "[CV] .. algorithm=auto, n_neighbors=3, p=2, score=0.909, total=   0.0s\n",
      "[CV] algorithm=auto, n_neighbors=3, p=2 ..............................\n"
     ]
    },
    {
     "name": "stderr",
     "output_type": "stream",
     "text": [
      "[Parallel(n_jobs=1)]: Done   9 out of   9 | elapsed:    0.4s remaining:    0.0s\n"
     ]
    },
    {
     "name": "stdout",
     "output_type": "stream",
     "text": [
      "[CV] .. algorithm=auto, n_neighbors=3, p=2, score=0.889, total=   0.1s\n",
      "[CV] algorithm=auto, n_neighbors=3, p=2 ..............................\n",
      "[CV] .. algorithm=auto, n_neighbors=3, p=2, score=0.941, total=   0.1s\n",
      "[CV] algorithm=auto, n_neighbors=3, p=2 ..............................\n",
      "[CV] .. algorithm=auto, n_neighbors=3, p=2, score=0.924, total=   0.1s\n",
      "[CV] algorithm=auto, n_neighbors=3, p=2 ..............................\n",
      "[CV] .. algorithm=auto, n_neighbors=3, p=2, score=0.925, total=   0.0s\n",
      "[CV] algorithm=auto, n_neighbors=3, p=2 ..............................\n",
      "[CV] .. algorithm=auto, n_neighbors=3, p=2, score=0.912, total=   0.1s\n",
      "[CV] algorithm=auto, n_neighbors=3, p=2 ..............................\n",
      "[CV] .. algorithm=auto, n_neighbors=3, p=2, score=0.909, total=   0.0s\n",
      "[CV] algorithm=auto, n_neighbors=3, p=2 ..............................\n",
      "[CV] .. algorithm=auto, n_neighbors=3, p=2, score=0.912, total=   0.0s\n",
      "[CV] algorithm=auto, n_neighbors=3, p=2 ..............................\n",
      "[CV] .. algorithm=auto, n_neighbors=3, p=2, score=0.937, total=   0.0s\n",
      "[CV] algorithm=auto, n_neighbors=3, p=2 ..............................\n",
      "[CV] .. algorithm=auto, n_neighbors=3, p=2, score=0.898, total=   0.1s\n",
      "[CV] algorithm=auto, n_neighbors=3, p=3 ..............................\n",
      "[CV] .. algorithm=auto, n_neighbors=3, p=3, score=0.904, total=   0.4s\n",
      "[CV] algorithm=auto, n_neighbors=3, p=3 ..............................\n",
      "[CV] .. algorithm=auto, n_neighbors=3, p=3, score=0.878, total=   0.4s\n",
      "[CV] algorithm=auto, n_neighbors=3, p=3 ..............................\n",
      "[CV] .. algorithm=auto, n_neighbors=3, p=3, score=0.931, total=   0.5s\n",
      "[CV] algorithm=auto, n_neighbors=3, p=3 ..............................\n",
      "[CV] .. algorithm=auto, n_neighbors=3, p=3, score=0.890, total=   0.4s\n",
      "[CV] algorithm=auto, n_neighbors=3, p=3 ..............................\n",
      "[CV] .. algorithm=auto, n_neighbors=3, p=3, score=0.925, total=   0.4s\n",
      "[CV] algorithm=auto, n_neighbors=3, p=3 ..............................\n",
      "[CV] .. algorithm=auto, n_neighbors=3, p=3, score=0.907, total=   0.3s\n",
      "[CV] algorithm=auto, n_neighbors=3, p=3 ..............................\n",
      "[CV] .. algorithm=auto, n_neighbors=3, p=3, score=0.902, total=   0.4s\n",
      "[CV] algorithm=auto, n_neighbors=3, p=3 ..............................\n",
      "[CV] .. algorithm=auto, n_neighbors=3, p=3, score=0.887, total=   0.4s\n",
      "[CV] algorithm=auto, n_neighbors=3, p=3 ..............................\n",
      "[CV] .. algorithm=auto, n_neighbors=3, p=3, score=0.919, total=   0.4s\n",
      "[CV] algorithm=auto, n_neighbors=3, p=3 ..............................\n",
      "[CV] .. algorithm=auto, n_neighbors=3, p=3, score=0.888, total=   0.4s\n",
      "[CV] algorithm=auto, n_neighbors=5, p=1 ..............................\n",
      "[CV] .. algorithm=auto, n_neighbors=5, p=1, score=0.916, total=   0.0s\n",
      "[CV] algorithm=auto, n_neighbors=5, p=1 ..............................\n",
      "[CV] .. algorithm=auto, n_neighbors=5, p=1, score=0.906, total=   0.1s\n",
      "[CV] algorithm=auto, n_neighbors=5, p=1 ..............................\n",
      "[CV] .. algorithm=auto, n_neighbors=5, p=1, score=0.946, total=   0.1s\n",
      "[CV] algorithm=auto, n_neighbors=5, p=1 ..............................\n",
      "[CV] .. algorithm=auto, n_neighbors=5, p=1, score=0.919, total=   0.1s\n",
      "[CV] algorithm=auto, n_neighbors=5, p=1 ..............................\n",
      "[CV] .. algorithm=auto, n_neighbors=5, p=1, score=0.940, total=   0.1s\n",
      "[CV] algorithm=auto, n_neighbors=5, p=1 ..............................\n",
      "[CV] .. algorithm=auto, n_neighbors=5, p=1, score=0.905, total=   0.1s\n",
      "[CV] algorithm=auto, n_neighbors=5, p=1 ..............................\n",
      "[CV] .. algorithm=auto, n_neighbors=5, p=1, score=0.921, total=   0.1s\n",
      "[CV] algorithm=auto, n_neighbors=5, p=1 ..............................\n",
      "[CV] .. algorithm=auto, n_neighbors=5, p=1, score=0.920, total=   0.1s\n",
      "[CV] algorithm=auto, n_neighbors=5, p=1 ..............................\n",
      "[CV] .. algorithm=auto, n_neighbors=5, p=1, score=0.937, total=   0.1s\n",
      "[CV] algorithm=auto, n_neighbors=5, p=1 ..............................\n",
      "[CV] .. algorithm=auto, n_neighbors=5, p=1, score=0.908, total=   0.1s\n",
      "[CV] algorithm=auto, n_neighbors=5, p=2 ..............................\n",
      "[CV] .. algorithm=auto, n_neighbors=5, p=2, score=0.895, total=   0.1s\n",
      "[CV] algorithm=auto, n_neighbors=5, p=2 ..............................\n",
      "[CV] .. algorithm=auto, n_neighbors=5, p=2, score=0.899, total=   0.1s\n",
      "[CV] algorithm=auto, n_neighbors=5, p=2 ..............................\n",
      "[CV] .. algorithm=auto, n_neighbors=5, p=2, score=0.939, total=   0.1s\n",
      "[CV] algorithm=auto, n_neighbors=5, p=2 ..............................\n",
      "[CV] .. algorithm=auto, n_neighbors=5, p=2, score=0.905, total=   0.1s\n",
      "[CV] algorithm=auto, n_neighbors=5, p=2 ..............................\n",
      "[CV] .. algorithm=auto, n_neighbors=5, p=2, score=0.923, total=   0.1s\n",
      "[CV] algorithm=auto, n_neighbors=5, p=2 ..............................\n",
      "[CV] .. algorithm=auto, n_neighbors=5, p=2, score=0.907, total=   0.1s\n",
      "[CV] algorithm=auto, n_neighbors=5, p=2 ..............................\n",
      "[CV] .. algorithm=auto, n_neighbors=5, p=2, score=0.912, total=   0.1s\n",
      "[CV] algorithm=auto, n_neighbors=5, p=2 ..............................\n",
      "[CV] .. algorithm=auto, n_neighbors=5, p=2, score=0.900, total=   0.1s\n",
      "[CV] algorithm=auto, n_neighbors=5, p=2 ..............................\n",
      "[CV] .. algorithm=auto, n_neighbors=5, p=2, score=0.934, total=   0.1s\n",
      "[CV] algorithm=auto, n_neighbors=5, p=2 ..............................\n",
      "[CV] .. algorithm=auto, n_neighbors=5, p=2, score=0.890, total=   0.1s\n",
      "[CV] algorithm=auto, n_neighbors=5, p=3 ..............................\n",
      "[CV] .. algorithm=auto, n_neighbors=5, p=3, score=0.888, total=   0.5s\n",
      "[CV] algorithm=auto, n_neighbors=5, p=3 ..............................\n",
      "[CV] .. algorithm=auto, n_neighbors=5, p=3, score=0.875, total=   0.5s\n",
      "[CV] algorithm=auto, n_neighbors=5, p=3 ..............................\n",
      "[CV] .. algorithm=auto, n_neighbors=5, p=3, score=0.927, total=   0.5s\n",
      "[CV] algorithm=auto, n_neighbors=5, p=3 ..............................\n",
      "[CV] .. algorithm=auto, n_neighbors=5, p=3, score=0.893, total=   0.5s\n",
      "[CV] algorithm=auto, n_neighbors=5, p=3 ..............................\n",
      "[CV] .. algorithm=auto, n_neighbors=5, p=3, score=0.913, total=   0.5s\n",
      "[CV] algorithm=auto, n_neighbors=5, p=3 ..............................\n",
      "[CV] .. algorithm=auto, n_neighbors=5, p=3, score=0.890, total=   0.4s\n",
      "[CV] algorithm=auto, n_neighbors=5, p=3 ..............................\n",
      "[CV] .. algorithm=auto, n_neighbors=5, p=3, score=0.904, total=   0.4s\n",
      "[CV] algorithm=auto, n_neighbors=5, p=3 ..............................\n",
      "[CV] .. algorithm=auto, n_neighbors=5, p=3, score=0.892, total=   0.4s\n",
      "[CV] algorithm=auto, n_neighbors=5, p=3 ..............................\n",
      "[CV] .. algorithm=auto, n_neighbors=5, p=3, score=0.926, total=   0.5s\n",
      "[CV] algorithm=auto, n_neighbors=5, p=3 ..............................\n",
      "[CV] .. algorithm=auto, n_neighbors=5, p=3, score=0.865, total=   0.4s\n",
      "[CV] algorithm=auto, n_neighbors=9, p=1 ..............................\n",
      "[CV] .. algorithm=auto, n_neighbors=9, p=1, score=0.897, total=   0.1s\n",
      "[CV] algorithm=auto, n_neighbors=9, p=1 ..............................\n",
      "[CV] .. algorithm=auto, n_neighbors=9, p=1, score=0.915, total=   0.1s\n",
      "[CV] algorithm=auto, n_neighbors=9, p=1 ..............................\n",
      "[CV] .. algorithm=auto, n_neighbors=9, p=1, score=0.943, total=   0.1s\n",
      "[CV] algorithm=auto, n_neighbors=9, p=1 ..............................\n",
      "[CV] .. algorithm=auto, n_neighbors=9, p=1, score=0.898, total=   0.1s\n",
      "[CV] algorithm=auto, n_neighbors=9, p=1 ..............................\n",
      "[CV] .. algorithm=auto, n_neighbors=9, p=1, score=0.923, total=   0.1s\n",
      "[CV] algorithm=auto, n_neighbors=9, p=1 ..............................\n",
      "[CV] .. algorithm=auto, n_neighbors=9, p=1, score=0.892, total=   0.1s\n",
      "[CV] algorithm=auto, n_neighbors=9, p=1 ..............................\n",
      "[CV] .. algorithm=auto, n_neighbors=9, p=1, score=0.921, total=   0.1s\n",
      "[CV] algorithm=auto, n_neighbors=9, p=1 ..............................\n",
      "[CV] .. algorithm=auto, n_neighbors=9, p=1, score=0.910, total=   0.1s\n",
      "[CV] algorithm=auto, n_neighbors=9, p=1 ..............................\n",
      "[CV] .. algorithm=auto, n_neighbors=9, p=1, score=0.926, total=   0.1s\n",
      "[CV] algorithm=auto, n_neighbors=9, p=1 ..............................\n",
      "[CV] .. algorithm=auto, n_neighbors=9, p=1, score=0.906, total=   0.1s\n",
      "[CV] algorithm=auto, n_neighbors=9, p=2 ..............................\n"
     ]
    },
    {
     "name": "stdout",
     "output_type": "stream",
     "text": [
      "[CV] .. algorithm=auto, n_neighbors=9, p=2, score=0.883, total=   0.1s\n",
      "[CV] algorithm=auto, n_neighbors=9, p=2 ..............................\n",
      "[CV] .. algorithm=auto, n_neighbors=9, p=2, score=0.899, total=   0.1s\n",
      "[CV] algorithm=auto, n_neighbors=9, p=2 ..............................\n",
      "[CV] .. algorithm=auto, n_neighbors=9, p=2, score=0.936, total=   0.1s\n",
      "[CV] algorithm=auto, n_neighbors=9, p=2 ..............................\n",
      "[CV] .. algorithm=auto, n_neighbors=9, p=2, score=0.900, total=   0.1s\n",
      "[CV] algorithm=auto, n_neighbors=9, p=2 ..............................\n",
      "[CV] .. algorithm=auto, n_neighbors=9, p=2, score=0.901, total=   0.1s\n",
      "[CV] algorithm=auto, n_neighbors=9, p=2 ..............................\n",
      "[CV] .. algorithm=auto, n_neighbors=9, p=2, score=0.880, total=   0.1s\n",
      "[CV] algorithm=auto, n_neighbors=9, p=2 ..............................\n",
      "[CV] .. algorithm=auto, n_neighbors=9, p=2, score=0.904, total=   0.1s\n",
      "[CV] algorithm=auto, n_neighbors=9, p=2 ..............................\n",
      "[CV] .. algorithm=auto, n_neighbors=9, p=2, score=0.910, total=   0.1s\n",
      "[CV] algorithm=auto, n_neighbors=9, p=2 ..............................\n",
      "[CV] .. algorithm=auto, n_neighbors=9, p=2, score=0.919, total=   0.1s\n",
      "[CV] algorithm=auto, n_neighbors=9, p=2 ..............................\n",
      "[CV] .. algorithm=auto, n_neighbors=9, p=2, score=0.875, total=   0.1s\n",
      "[CV] algorithm=auto, n_neighbors=9, p=3 ..............................\n",
      "[CV] .. algorithm=auto, n_neighbors=9, p=3, score=0.881, total=   0.6s\n",
      "[CV] algorithm=auto, n_neighbors=9, p=3 ..............................\n",
      "[CV] .. algorithm=auto, n_neighbors=9, p=3, score=0.873, total=   0.6s\n",
      "[CV] algorithm=auto, n_neighbors=9, p=3 ..............................\n",
      "[CV] .. algorithm=auto, n_neighbors=9, p=3, score=0.920, total=   0.7s\n",
      "[CV] algorithm=auto, n_neighbors=9, p=3 ..............................\n",
      "[CV] .. algorithm=auto, n_neighbors=9, p=3, score=0.902, total=   0.6s\n",
      "[CV] algorithm=auto, n_neighbors=9, p=3 ..............................\n",
      "[CV] .. algorithm=auto, n_neighbors=9, p=3, score=0.904, total=   0.5s\n",
      "[CV] algorithm=auto, n_neighbors=9, p=3 ..............................\n",
      "[CV] .. algorithm=auto, n_neighbors=9, p=3, score=0.883, total=   0.5s\n",
      "[CV] algorithm=auto, n_neighbors=9, p=3 ..............................\n",
      "[CV] .. algorithm=auto, n_neighbors=9, p=3, score=0.885, total=   0.6s\n",
      "[CV] algorithm=auto, n_neighbors=9, p=3 ..............................\n",
      "[CV] .. algorithm=auto, n_neighbors=9, p=3, score=0.890, total=   0.6s\n",
      "[CV] algorithm=auto, n_neighbors=9, p=3 ..............................\n",
      "[CV] .. algorithm=auto, n_neighbors=9, p=3, score=0.909, total=   0.5s\n",
      "[CV] algorithm=auto, n_neighbors=9, p=3 ..............................\n",
      "[CV] .. algorithm=auto, n_neighbors=9, p=3, score=0.862, total=   0.5s\n",
      "[CV] algorithm=auto, n_neighbors=15, p=1 .............................\n",
      "[CV] . algorithm=auto, n_neighbors=15, p=1, score=0.883, total=   0.1s\n",
      "[CV] algorithm=auto, n_neighbors=15, p=1 .............................\n",
      "[CV] . algorithm=auto, n_neighbors=15, p=1, score=0.887, total=   0.0s\n",
      "[CV] algorithm=auto, n_neighbors=15, p=1 .............................\n",
      "[CV] . algorithm=auto, n_neighbors=15, p=1, score=0.931, total=   0.1s\n",
      "[CV] algorithm=auto, n_neighbors=15, p=1 .............................\n",
      "[CV] . algorithm=auto, n_neighbors=15, p=1, score=0.893, total=   0.1s\n",
      "[CV] algorithm=auto, n_neighbors=15, p=1 .............................\n",
      "[CV] . algorithm=auto, n_neighbors=15, p=1, score=0.908, total=   0.1s\n",
      "[CV] algorithm=auto, n_neighbors=15, p=1 .............................\n",
      "[CV] . algorithm=auto, n_neighbors=15, p=1, score=0.875, total=   0.1s\n",
      "[CV] algorithm=auto, n_neighbors=15, p=1 .............................\n",
      "[CV] . algorithm=auto, n_neighbors=15, p=1, score=0.902, total=   0.1s\n",
      "[CV] algorithm=auto, n_neighbors=15, p=1 .............................\n",
      "[CV] . algorithm=auto, n_neighbors=15, p=1, score=0.905, total=   0.1s\n",
      "[CV] algorithm=auto, n_neighbors=15, p=1 .............................\n",
      "[CV] . algorithm=auto, n_neighbors=15, p=1, score=0.921, total=   0.1s\n",
      "[CV] algorithm=auto, n_neighbors=15, p=1 .............................\n",
      "[CV] . algorithm=auto, n_neighbors=15, p=1, score=0.885, total=   0.0s\n",
      "[CV] algorithm=auto, n_neighbors=15, p=2 .............................\n",
      "[CV] . algorithm=auto, n_neighbors=15, p=2, score=0.867, total=   0.1s\n",
      "[CV] algorithm=auto, n_neighbors=15, p=2 .............................\n",
      "[CV] . algorithm=auto, n_neighbors=15, p=2, score=0.871, total=   0.1s\n",
      "[CV] algorithm=auto, n_neighbors=15, p=2 .............................\n",
      "[CV] . algorithm=auto, n_neighbors=15, p=2, score=0.920, total=   0.1s\n",
      "[CV] algorithm=auto, n_neighbors=15, p=2 .............................\n",
      "[CV] . algorithm=auto, n_neighbors=15, p=2, score=0.886, total=   0.1s\n",
      "[CV] algorithm=auto, n_neighbors=15, p=2 .............................\n",
      "[CV] . algorithm=auto, n_neighbors=15, p=2, score=0.894, total=   0.1s\n",
      "[CV] algorithm=auto, n_neighbors=15, p=2 .............................\n",
      "[CV] . algorithm=auto, n_neighbors=15, p=2, score=0.863, total=   0.1s\n",
      "[CV] algorithm=auto, n_neighbors=15, p=2 .............................\n",
      "[CV] . algorithm=auto, n_neighbors=15, p=2, score=0.867, total=   0.1s\n",
      "[CV] algorithm=auto, n_neighbors=15, p=2 .............................\n",
      "[CV] . algorithm=auto, n_neighbors=15, p=2, score=0.887, total=   0.1s\n",
      "[CV] algorithm=auto, n_neighbors=15, p=2 .............................\n",
      "[CV] . algorithm=auto, n_neighbors=15, p=2, score=0.901, total=   0.1s\n",
      "[CV] algorithm=auto, n_neighbors=15, p=2 .............................\n",
      "[CV] . algorithm=auto, n_neighbors=15, p=2, score=0.837, total=   0.1s\n",
      "[CV] algorithm=auto, n_neighbors=15, p=3 .............................\n",
      "[CV] . algorithm=auto, n_neighbors=15, p=3, score=0.857, total=   0.6s\n",
      "[CV] algorithm=auto, n_neighbors=15, p=3 .............................\n",
      "[CV] . algorithm=auto, n_neighbors=15, p=3, score=0.859, total=   0.6s\n",
      "[CV] algorithm=auto, n_neighbors=15, p=3 .............................\n",
      "[CV] . algorithm=auto, n_neighbors=15, p=3, score=0.894, total=   0.6s\n",
      "[CV] algorithm=auto, n_neighbors=15, p=3 .............................\n",
      "[CV] . algorithm=auto, n_neighbors=15, p=3, score=0.883, total=   0.6s\n",
      "[CV] algorithm=auto, n_neighbors=15, p=3 .............................\n",
      "[CV] . algorithm=auto, n_neighbors=15, p=3, score=0.880, total=   0.5s\n",
      "[CV] algorithm=auto, n_neighbors=15, p=3 .............................\n",
      "[CV] . algorithm=auto, n_neighbors=15, p=3, score=0.861, total=   0.5s\n",
      "[CV] algorithm=auto, n_neighbors=15, p=3 .............................\n",
      "[CV] . algorithm=auto, n_neighbors=15, p=3, score=0.860, total=   0.5s\n",
      "[CV] algorithm=auto, n_neighbors=15, p=3 .............................\n",
      "[CV] . algorithm=auto, n_neighbors=15, p=3, score=0.872, total=   0.5s\n",
      "[CV] algorithm=auto, n_neighbors=15, p=3 .............................\n",
      "[CV] . algorithm=auto, n_neighbors=15, p=3, score=0.896, total=   0.5s\n",
      "[CV] algorithm=auto, n_neighbors=15, p=3 .............................\n",
      "[CV] . algorithm=auto, n_neighbors=15, p=3, score=0.819, total=   0.5s\n",
      "[CV] algorithm=ball_tree, n_neighbors=3, p=1 .........................\n",
      "[CV]  algorithm=ball_tree, n_neighbors=3, p=1, score=0.916, total=   0.0s\n",
      "[CV] algorithm=ball_tree, n_neighbors=3, p=1 .........................\n",
      "[CV]  algorithm=ball_tree, n_neighbors=3, p=1, score=0.911, total=   0.1s\n",
      "[CV] algorithm=ball_tree, n_neighbors=3, p=1 .........................\n",
      "[CV]  algorithm=ball_tree, n_neighbors=3, p=1, score=0.943, total=   0.0s\n",
      "[CV] algorithm=ball_tree, n_neighbors=3, p=1 .........................\n",
      "[CV]  algorithm=ball_tree, n_neighbors=3, p=1, score=0.907, total=   0.1s\n",
      "[CV] algorithm=ball_tree, n_neighbors=3, p=1 .........................\n",
      "[CV]  algorithm=ball_tree, n_neighbors=3, p=1, score=0.930, total=   0.1s\n",
      "[CV] algorithm=ball_tree, n_neighbors=3, p=1 .........................\n",
      "[CV]  algorithm=ball_tree, n_neighbors=3, p=1, score=0.910, total=   0.1s\n",
      "[CV] algorithm=ball_tree, n_neighbors=3, p=1 .........................\n",
      "[CV]  algorithm=ball_tree, n_neighbors=3, p=1, score=0.914, total=   0.0s\n",
      "[CV] algorithm=ball_tree, n_neighbors=3, p=1 .........................\n",
      "[CV]  algorithm=ball_tree, n_neighbors=3, p=1, score=0.925, total=   0.1s\n",
      "[CV] algorithm=ball_tree, n_neighbors=3, p=1 .........................\n",
      "[CV]  algorithm=ball_tree, n_neighbors=3, p=1, score=0.914, total=   0.1s\n",
      "[CV] algorithm=ball_tree, n_neighbors=3, p=1 .........................\n",
      "[CV]  algorithm=ball_tree, n_neighbors=3, p=1, score=0.906, total=   0.0s\n",
      "[CV] algorithm=ball_tree, n_neighbors=3, p=2 .........................\n",
      "[CV]  algorithm=ball_tree, n_neighbors=3, p=2, score=0.909, total=   0.1s\n",
      "[CV] algorithm=ball_tree, n_neighbors=3, p=2 .........................\n"
     ]
    },
    {
     "name": "stdout",
     "output_type": "stream",
     "text": [
      "[CV]  algorithm=ball_tree, n_neighbors=3, p=2, score=0.889, total=   0.1s\n",
      "[CV] algorithm=ball_tree, n_neighbors=3, p=2 .........................\n",
      "[CV]  algorithm=ball_tree, n_neighbors=3, p=2, score=0.941, total=   0.0s\n",
      "[CV] algorithm=ball_tree, n_neighbors=3, p=2 .........................\n",
      "[CV]  algorithm=ball_tree, n_neighbors=3, p=2, score=0.924, total=   0.1s\n",
      "[CV] algorithm=ball_tree, n_neighbors=3, p=2 .........................\n",
      "[CV]  algorithm=ball_tree, n_neighbors=3, p=2, score=0.925, total=   0.1s\n",
      "[CV] algorithm=ball_tree, n_neighbors=3, p=2 .........................\n",
      "[CV]  algorithm=ball_tree, n_neighbors=3, p=2, score=0.912, total=   0.1s\n",
      "[CV] algorithm=ball_tree, n_neighbors=3, p=2 .........................\n",
      "[CV]  algorithm=ball_tree, n_neighbors=3, p=2, score=0.909, total=   0.0s\n",
      "[CV] algorithm=ball_tree, n_neighbors=3, p=2 .........................\n",
      "[CV]  algorithm=ball_tree, n_neighbors=3, p=2, score=0.912, total=   0.1s\n",
      "[CV] algorithm=ball_tree, n_neighbors=3, p=2 .........................\n",
      "[CV]  algorithm=ball_tree, n_neighbors=3, p=2, score=0.937, total=   0.0s\n",
      "[CV] algorithm=ball_tree, n_neighbors=3, p=2 .........................\n",
      "[CV]  algorithm=ball_tree, n_neighbors=3, p=2, score=0.898, total=   0.1s\n",
      "[CV] algorithm=ball_tree, n_neighbors=3, p=3 .........................\n",
      "[CV]  algorithm=ball_tree, n_neighbors=3, p=3, score=0.904, total=   1.3s\n",
      "[CV] algorithm=ball_tree, n_neighbors=3, p=3 .........................\n",
      "[CV]  algorithm=ball_tree, n_neighbors=3, p=3, score=0.878, total=   1.2s\n",
      "[CV] algorithm=ball_tree, n_neighbors=3, p=3 .........................\n",
      "[CV]  algorithm=ball_tree, n_neighbors=3, p=3, score=0.931, total=   1.2s\n",
      "[CV] algorithm=ball_tree, n_neighbors=3, p=3 .........................\n",
      "[CV]  algorithm=ball_tree, n_neighbors=3, p=3, score=0.890, total=   1.2s\n",
      "[CV] algorithm=ball_tree, n_neighbors=3, p=3 .........................\n",
      "[CV]  algorithm=ball_tree, n_neighbors=3, p=3, score=0.925, total=   1.2s\n",
      "[CV] algorithm=ball_tree, n_neighbors=3, p=3 .........................\n",
      "[CV]  algorithm=ball_tree, n_neighbors=3, p=3, score=0.907, total=   1.2s\n",
      "[CV] algorithm=ball_tree, n_neighbors=3, p=3 .........................\n",
      "[CV]  algorithm=ball_tree, n_neighbors=3, p=3, score=0.902, total=   1.2s\n",
      "[CV] algorithm=ball_tree, n_neighbors=3, p=3 .........................\n",
      "[CV]  algorithm=ball_tree, n_neighbors=3, p=3, score=0.887, total=   1.1s\n",
      "[CV] algorithm=ball_tree, n_neighbors=3, p=3 .........................\n",
      "[CV]  algorithm=ball_tree, n_neighbors=3, p=3, score=0.919, total=   1.2s\n",
      "[CV] algorithm=ball_tree, n_neighbors=3, p=3 .........................\n",
      "[CV]  algorithm=ball_tree, n_neighbors=3, p=3, score=0.888, total=   1.1s\n",
      "[CV] algorithm=ball_tree, n_neighbors=5, p=1 .........................\n",
      "[CV]  algorithm=ball_tree, n_neighbors=5, p=1, score=0.916, total=   0.1s\n",
      "[CV] algorithm=ball_tree, n_neighbors=5, p=1 .........................\n",
      "[CV]  algorithm=ball_tree, n_neighbors=5, p=1, score=0.906, total=   0.0s\n",
      "[CV] algorithm=ball_tree, n_neighbors=5, p=1 .........................\n",
      "[CV]  algorithm=ball_tree, n_neighbors=5, p=1, score=0.946, total=   0.1s\n",
      "[CV] algorithm=ball_tree, n_neighbors=5, p=1 .........................\n",
      "[CV]  algorithm=ball_tree, n_neighbors=5, p=1, score=0.919, total=   0.1s\n",
      "[CV] algorithm=ball_tree, n_neighbors=5, p=1 .........................\n",
      "[CV]  algorithm=ball_tree, n_neighbors=5, p=1, score=0.940, total=   0.0s\n",
      "[CV] algorithm=ball_tree, n_neighbors=5, p=1 .........................\n",
      "[CV]  algorithm=ball_tree, n_neighbors=5, p=1, score=0.905, total=   0.1s\n",
      "[CV] algorithm=ball_tree, n_neighbors=5, p=1 .........................\n",
      "[CV]  algorithm=ball_tree, n_neighbors=5, p=1, score=0.921, total=   0.0s\n",
      "[CV] algorithm=ball_tree, n_neighbors=5, p=1 .........................\n",
      "[CV]  algorithm=ball_tree, n_neighbors=5, p=1, score=0.920, total=   0.0s\n",
      "[CV] algorithm=ball_tree, n_neighbors=5, p=1 .........................\n",
      "[CV]  algorithm=ball_tree, n_neighbors=5, p=1, score=0.937, total=   0.1s\n",
      "[CV] algorithm=ball_tree, n_neighbors=5, p=1 .........................\n",
      "[CV]  algorithm=ball_tree, n_neighbors=5, p=1, score=0.908, total=   0.0s\n",
      "[CV] algorithm=ball_tree, n_neighbors=5, p=2 .........................\n",
      "[CV]  algorithm=ball_tree, n_neighbors=5, p=2, score=0.895, total=   0.1s\n",
      "[CV] algorithm=ball_tree, n_neighbors=5, p=2 .........................\n",
      "[CV]  algorithm=ball_tree, n_neighbors=5, p=2, score=0.899, total=   0.1s\n",
      "[CV] algorithm=ball_tree, n_neighbors=5, p=2 .........................\n",
      "[CV]  algorithm=ball_tree, n_neighbors=5, p=2, score=0.939, total=   0.1s\n",
      "[CV] algorithm=ball_tree, n_neighbors=5, p=2 .........................\n",
      "[CV]  algorithm=ball_tree, n_neighbors=5, p=2, score=0.905, total=   0.1s\n",
      "[CV] algorithm=ball_tree, n_neighbors=5, p=2 .........................\n",
      "[CV]  algorithm=ball_tree, n_neighbors=5, p=2, score=0.923, total=   0.0s\n",
      "[CV] algorithm=ball_tree, n_neighbors=5, p=2 .........................\n",
      "[CV]  algorithm=ball_tree, n_neighbors=5, p=2, score=0.907, total=   0.1s\n",
      "[CV] algorithm=ball_tree, n_neighbors=5, p=2 .........................\n",
      "[CV]  algorithm=ball_tree, n_neighbors=5, p=2, score=0.912, total=   0.1s\n",
      "[CV] algorithm=ball_tree, n_neighbors=5, p=2 .........................\n",
      "[CV]  algorithm=ball_tree, n_neighbors=5, p=2, score=0.900, total=   0.1s\n",
      "[CV] algorithm=ball_tree, n_neighbors=5, p=2 .........................\n",
      "[CV]  algorithm=ball_tree, n_neighbors=5, p=2, score=0.934, total=   0.1s\n",
      "[CV] algorithm=ball_tree, n_neighbors=5, p=2 .........................\n",
      "[CV]  algorithm=ball_tree, n_neighbors=5, p=2, score=0.890, total=   0.1s\n",
      "[CV] algorithm=ball_tree, n_neighbors=5, p=3 .........................\n",
      "[CV]  algorithm=ball_tree, n_neighbors=5, p=3, score=0.888, total=   1.3s\n",
      "[CV] algorithm=ball_tree, n_neighbors=5, p=3 .........................\n",
      "[CV]  algorithm=ball_tree, n_neighbors=5, p=3, score=0.875, total=   1.3s\n",
      "[CV] algorithm=ball_tree, n_neighbors=5, p=3 .........................\n",
      "[CV]  algorithm=ball_tree, n_neighbors=5, p=3, score=0.927, total=   1.2s\n",
      "[CV] algorithm=ball_tree, n_neighbors=5, p=3 .........................\n",
      "[CV]  algorithm=ball_tree, n_neighbors=5, p=3, score=0.893, total=   1.4s\n",
      "[CV] algorithm=ball_tree, n_neighbors=5, p=3 .........................\n",
      "[CV]  algorithm=ball_tree, n_neighbors=5, p=3, score=0.913, total=   1.3s\n",
      "[CV] algorithm=ball_tree, n_neighbors=5, p=3 .........................\n",
      "[CV]  algorithm=ball_tree, n_neighbors=5, p=3, score=0.890, total=   1.2s\n",
      "[CV] algorithm=ball_tree, n_neighbors=5, p=3 .........................\n",
      "[CV]  algorithm=ball_tree, n_neighbors=5, p=3, score=0.904, total=   1.2s\n",
      "[CV] algorithm=ball_tree, n_neighbors=5, p=3 .........................\n",
      "[CV]  algorithm=ball_tree, n_neighbors=5, p=3, score=0.892, total=   1.2s\n",
      "[CV] algorithm=ball_tree, n_neighbors=5, p=3 .........................\n",
      "[CV]  algorithm=ball_tree, n_neighbors=5, p=3, score=0.926, total=   1.2s\n",
      "[CV] algorithm=ball_tree, n_neighbors=5, p=3 .........................\n",
      "[CV]  algorithm=ball_tree, n_neighbors=5, p=3, score=0.865, total=   1.1s\n",
      "[CV] algorithm=ball_tree, n_neighbors=9, p=1 .........................\n",
      "[CV]  algorithm=ball_tree, n_neighbors=9, p=1, score=0.897, total=   0.1s\n",
      "[CV] algorithm=ball_tree, n_neighbors=9, p=1 .........................\n",
      "[CV]  algorithm=ball_tree, n_neighbors=9, p=1, score=0.915, total=   0.1s\n",
      "[CV] algorithm=ball_tree, n_neighbors=9, p=1 .........................\n",
      "[CV]  algorithm=ball_tree, n_neighbors=9, p=1, score=0.943, total=   0.1s\n",
      "[CV] algorithm=ball_tree, n_neighbors=9, p=1 .........................\n",
      "[CV]  algorithm=ball_tree, n_neighbors=9, p=1, score=0.898, total=   0.1s\n",
      "[CV] algorithm=ball_tree, n_neighbors=9, p=1 .........................\n",
      "[CV]  algorithm=ball_tree, n_neighbors=9, p=1, score=0.923, total=   0.1s\n",
      "[CV] algorithm=ball_tree, n_neighbors=9, p=1 .........................\n",
      "[CV]  algorithm=ball_tree, n_neighbors=9, p=1, score=0.892, total=   0.1s\n",
      "[CV] algorithm=ball_tree, n_neighbors=9, p=1 .........................\n",
      "[CV]  algorithm=ball_tree, n_neighbors=9, p=1, score=0.921, total=   0.0s\n",
      "[CV] algorithm=ball_tree, n_neighbors=9, p=1 .........................\n",
      "[CV]  algorithm=ball_tree, n_neighbors=9, p=1, score=0.910, total=   0.1s\n",
      "[CV] algorithm=ball_tree, n_neighbors=9, p=1 .........................\n",
      "[CV]  algorithm=ball_tree, n_neighbors=9, p=1, score=0.926, total=   0.0s\n",
      "[CV] algorithm=ball_tree, n_neighbors=9, p=1 .........................\n",
      "[CV]  algorithm=ball_tree, n_neighbors=9, p=1, score=0.906, total=   0.1s\n",
      "[CV] algorithm=ball_tree, n_neighbors=9, p=2 .........................\n",
      "[CV]  algorithm=ball_tree, n_neighbors=9, p=2, score=0.883, total=   0.0s\n",
      "[CV] algorithm=ball_tree, n_neighbors=9, p=2 .........................\n"
     ]
    },
    {
     "name": "stdout",
     "output_type": "stream",
     "text": [
      "[CV]  algorithm=ball_tree, n_neighbors=9, p=2, score=0.899, total=   0.1s\n",
      "[CV] algorithm=ball_tree, n_neighbors=9, p=2 .........................\n",
      "[CV]  algorithm=ball_tree, n_neighbors=9, p=2, score=0.936, total=   0.1s\n",
      "[CV] algorithm=ball_tree, n_neighbors=9, p=2 .........................\n",
      "[CV]  algorithm=ball_tree, n_neighbors=9, p=2, score=0.900, total=   0.1s\n",
      "[CV] algorithm=ball_tree, n_neighbors=9, p=2 .........................\n",
      "[CV]  algorithm=ball_tree, n_neighbors=9, p=2, score=0.901, total=   0.1s\n",
      "[CV] algorithm=ball_tree, n_neighbors=9, p=2 .........................\n",
      "[CV]  algorithm=ball_tree, n_neighbors=9, p=2, score=0.880, total=   0.1s\n",
      "[CV] algorithm=ball_tree, n_neighbors=9, p=2 .........................\n",
      "[CV]  algorithm=ball_tree, n_neighbors=9, p=2, score=0.904, total=   0.1s\n",
      "[CV] algorithm=ball_tree, n_neighbors=9, p=2 .........................\n",
      "[CV]  algorithm=ball_tree, n_neighbors=9, p=2, score=0.910, total=   0.0s\n",
      "[CV] algorithm=ball_tree, n_neighbors=9, p=2 .........................\n",
      "[CV]  algorithm=ball_tree, n_neighbors=9, p=2, score=0.919, total=   0.1s\n",
      "[CV] algorithm=ball_tree, n_neighbors=9, p=2 .........................\n",
      "[CV]  algorithm=ball_tree, n_neighbors=9, p=2, score=0.875, total=   0.1s\n",
      "[CV] algorithm=ball_tree, n_neighbors=9, p=3 .........................\n",
      "[CV]  algorithm=ball_tree, n_neighbors=9, p=3, score=0.881, total=   1.3s\n",
      "[CV] algorithm=ball_tree, n_neighbors=9, p=3 .........................\n",
      "[CV]  algorithm=ball_tree, n_neighbors=9, p=3, score=0.873, total=   1.3s\n",
      "[CV] algorithm=ball_tree, n_neighbors=9, p=3 .........................\n",
      "[CV]  algorithm=ball_tree, n_neighbors=9, p=3, score=0.920, total=   1.3s\n",
      "[CV] algorithm=ball_tree, n_neighbors=9, p=3 .........................\n",
      "[CV]  algorithm=ball_tree, n_neighbors=9, p=3, score=0.902, total=   1.4s\n",
      "[CV] algorithm=ball_tree, n_neighbors=9, p=3 .........................\n",
      "[CV]  algorithm=ball_tree, n_neighbors=9, p=3, score=0.904, total=   1.4s\n",
      "[CV] algorithm=ball_tree, n_neighbors=9, p=3 .........................\n",
      "[CV]  algorithm=ball_tree, n_neighbors=9, p=3, score=0.883, total=   1.3s\n",
      "[CV] algorithm=ball_tree, n_neighbors=9, p=3 .........................\n",
      "[CV]  algorithm=ball_tree, n_neighbors=9, p=3, score=0.885, total=   1.4s\n",
      "[CV] algorithm=ball_tree, n_neighbors=9, p=3 .........................\n",
      "[CV]  algorithm=ball_tree, n_neighbors=9, p=3, score=0.890, total=   1.5s\n",
      "[CV] algorithm=ball_tree, n_neighbors=9, p=3 .........................\n",
      "[CV]  algorithm=ball_tree, n_neighbors=9, p=3, score=0.909, total=   1.8s\n",
      "[CV] algorithm=ball_tree, n_neighbors=9, p=3 .........................\n",
      "[CV]  algorithm=ball_tree, n_neighbors=9, p=3, score=0.862, total=   1.4s\n",
      "[CV] algorithm=ball_tree, n_neighbors=15, p=1 ........................\n",
      "[CV]  algorithm=ball_tree, n_neighbors=15, p=1, score=0.883, total=   0.1s\n",
      "[CV] algorithm=ball_tree, n_neighbors=15, p=1 ........................\n",
      "[CV]  algorithm=ball_tree, n_neighbors=15, p=1, score=0.887, total=   0.1s\n",
      "[CV] algorithm=ball_tree, n_neighbors=15, p=1 ........................\n",
      "[CV]  algorithm=ball_tree, n_neighbors=15, p=1, score=0.931, total=   0.1s\n",
      "[CV] algorithm=ball_tree, n_neighbors=15, p=1 ........................\n",
      "[CV]  algorithm=ball_tree, n_neighbors=15, p=1, score=0.893, total=   0.1s\n",
      "[CV] algorithm=ball_tree, n_neighbors=15, p=1 ........................\n",
      "[CV]  algorithm=ball_tree, n_neighbors=15, p=1, score=0.908, total=   0.1s\n",
      "[CV] algorithm=ball_tree, n_neighbors=15, p=1 ........................\n",
      "[CV]  algorithm=ball_tree, n_neighbors=15, p=1, score=0.875, total=   0.1s\n",
      "[CV] algorithm=ball_tree, n_neighbors=15, p=1 ........................\n",
      "[CV]  algorithm=ball_tree, n_neighbors=15, p=1, score=0.902, total=   0.1s\n",
      "[CV] algorithm=ball_tree, n_neighbors=15, p=1 ........................\n",
      "[CV]  algorithm=ball_tree, n_neighbors=15, p=1, score=0.905, total=   0.1s\n",
      "[CV] algorithm=ball_tree, n_neighbors=15, p=1 ........................\n",
      "[CV]  algorithm=ball_tree, n_neighbors=15, p=1, score=0.921, total=   0.1s\n",
      "[CV] algorithm=ball_tree, n_neighbors=15, p=1 ........................\n",
      "[CV]  algorithm=ball_tree, n_neighbors=15, p=1, score=0.885, total=   0.1s\n",
      "[CV] algorithm=ball_tree, n_neighbors=15, p=2 ........................\n",
      "[CV]  algorithm=ball_tree, n_neighbors=15, p=2, score=0.867, total=   0.1s\n",
      "[CV] algorithm=ball_tree, n_neighbors=15, p=2 ........................\n",
      "[CV]  algorithm=ball_tree, n_neighbors=15, p=2, score=0.871, total=   0.1s\n",
      "[CV] algorithm=ball_tree, n_neighbors=15, p=2 ........................\n",
      "[CV]  algorithm=ball_tree, n_neighbors=15, p=2, score=0.920, total=   0.1s\n",
      "[CV] algorithm=ball_tree, n_neighbors=15, p=2 ........................\n",
      "[CV]  algorithm=ball_tree, n_neighbors=15, p=2, score=0.886, total=   0.1s\n",
      "[CV] algorithm=ball_tree, n_neighbors=15, p=2 ........................\n",
      "[CV]  algorithm=ball_tree, n_neighbors=15, p=2, score=0.894, total=   0.1s\n",
      "[CV] algorithm=ball_tree, n_neighbors=15, p=2 ........................\n",
      "[CV]  algorithm=ball_tree, n_neighbors=15, p=2, score=0.863, total=   0.1s\n",
      "[CV] algorithm=ball_tree, n_neighbors=15, p=2 ........................\n",
      "[CV]  algorithm=ball_tree, n_neighbors=15, p=2, score=0.867, total=   0.1s\n",
      "[CV] algorithm=ball_tree, n_neighbors=15, p=2 ........................\n",
      "[CV]  algorithm=ball_tree, n_neighbors=15, p=2, score=0.887, total=   0.1s\n",
      "[CV] algorithm=ball_tree, n_neighbors=15, p=2 ........................\n",
      "[CV]  algorithm=ball_tree, n_neighbors=15, p=2, score=0.901, total=   0.0s\n",
      "[CV] algorithm=ball_tree, n_neighbors=15, p=2 ........................\n",
      "[CV]  algorithm=ball_tree, n_neighbors=15, p=2, score=0.837, total=   0.1s\n",
      "[CV] algorithm=ball_tree, n_neighbors=15, p=3 ........................\n",
      "[CV]  algorithm=ball_tree, n_neighbors=15, p=3, score=0.857, total=   1.3s\n",
      "[CV] algorithm=ball_tree, n_neighbors=15, p=3 ........................\n",
      "[CV]  algorithm=ball_tree, n_neighbors=15, p=3, score=0.859, total=   1.3s\n",
      "[CV] algorithm=ball_tree, n_neighbors=15, p=3 ........................\n",
      "[CV]  algorithm=ball_tree, n_neighbors=15, p=3, score=0.894, total=   1.3s\n",
      "[CV] algorithm=ball_tree, n_neighbors=15, p=3 ........................\n",
      "[CV]  algorithm=ball_tree, n_neighbors=15, p=3, score=0.883, total=   1.2s\n",
      "[CV] algorithm=ball_tree, n_neighbors=15, p=3 ........................\n",
      "[CV]  algorithm=ball_tree, n_neighbors=15, p=3, score=0.880, total=   1.3s\n",
      "[CV] algorithm=ball_tree, n_neighbors=15, p=3 ........................\n",
      "[CV]  algorithm=ball_tree, n_neighbors=15, p=3, score=0.861, total=   1.3s\n",
      "[CV] algorithm=ball_tree, n_neighbors=15, p=3 ........................\n",
      "[CV]  algorithm=ball_tree, n_neighbors=15, p=3, score=0.860, total=   1.2s\n",
      "[CV] algorithm=ball_tree, n_neighbors=15, p=3 ........................\n",
      "[CV]  algorithm=ball_tree, n_neighbors=15, p=3, score=0.872, total=   1.2s\n",
      "[CV] algorithm=ball_tree, n_neighbors=15, p=3 ........................\n",
      "[CV]  algorithm=ball_tree, n_neighbors=15, p=3, score=0.896, total=   1.6s\n",
      "[CV] algorithm=ball_tree, n_neighbors=15, p=3 ........................\n",
      "[CV]  algorithm=ball_tree, n_neighbors=15, p=3, score=0.819, total=   1.2s\n",
      "[CV] algorithm=kd_tree, n_neighbors=3, p=1 ...........................\n",
      "[CV]  algorithm=kd_tree, n_neighbors=3, p=1, score=0.916, total=   0.0s\n",
      "[CV] algorithm=kd_tree, n_neighbors=3, p=1 ...........................\n",
      "[CV]  algorithm=kd_tree, n_neighbors=3, p=1, score=0.911, total=   0.0s\n",
      "[CV] algorithm=kd_tree, n_neighbors=3, p=1 ...........................\n",
      "[CV]  algorithm=kd_tree, n_neighbors=3, p=1, score=0.943, total=   0.0s\n",
      "[CV] algorithm=kd_tree, n_neighbors=3, p=1 ...........................\n",
      "[CV]  algorithm=kd_tree, n_neighbors=3, p=1, score=0.907, total=   0.0s\n",
      "[CV] algorithm=kd_tree, n_neighbors=3, p=1 ...........................\n",
      "[CV]  algorithm=kd_tree, n_neighbors=3, p=1, score=0.930, total=   0.1s\n",
      "[CV] algorithm=kd_tree, n_neighbors=3, p=1 ...........................\n",
      "[CV]  algorithm=kd_tree, n_neighbors=3, p=1, score=0.910, total=   0.0s\n",
      "[CV] algorithm=kd_tree, n_neighbors=3, p=1 ...........................\n",
      "[CV]  algorithm=kd_tree, n_neighbors=3, p=1, score=0.914, total=   0.0s\n",
      "[CV] algorithm=kd_tree, n_neighbors=3, p=1 ...........................\n",
      "[CV]  algorithm=kd_tree, n_neighbors=3, p=1, score=0.925, total=   0.0s\n",
      "[CV] algorithm=kd_tree, n_neighbors=3, p=1 ...........................\n",
      "[CV]  algorithm=kd_tree, n_neighbors=3, p=1, score=0.914, total=   0.0s\n",
      "[CV] algorithm=kd_tree, n_neighbors=3, p=1 ...........................\n"
     ]
    },
    {
     "name": "stdout",
     "output_type": "stream",
     "text": [
      "[CV]  algorithm=kd_tree, n_neighbors=3, p=1, score=0.906, total=   0.1s\n",
      "[CV] algorithm=kd_tree, n_neighbors=3, p=2 ...........................\n",
      "[CV]  algorithm=kd_tree, n_neighbors=3, p=2, score=0.909, total=   0.0s\n",
      "[CV] algorithm=kd_tree, n_neighbors=3, p=2 ...........................\n",
      "[CV]  algorithm=kd_tree, n_neighbors=3, p=2, score=0.889, total=   0.0s\n",
      "[CV] algorithm=kd_tree, n_neighbors=3, p=2 ...........................\n",
      "[CV]  algorithm=kd_tree, n_neighbors=3, p=2, score=0.941, total=   0.0s\n",
      "[CV] algorithm=kd_tree, n_neighbors=3, p=2 ...........................\n",
      "[CV]  algorithm=kd_tree, n_neighbors=3, p=2, score=0.924, total=   0.0s\n",
      "[CV] algorithm=kd_tree, n_neighbors=3, p=2 ...........................\n",
      "[CV]  algorithm=kd_tree, n_neighbors=3, p=2, score=0.925, total=   0.1s\n",
      "[CV] algorithm=kd_tree, n_neighbors=3, p=2 ...........................\n",
      "[CV]  algorithm=kd_tree, n_neighbors=3, p=2, score=0.912, total=   0.0s\n",
      "[CV] algorithm=kd_tree, n_neighbors=3, p=2 ...........................\n",
      "[CV]  algorithm=kd_tree, n_neighbors=3, p=2, score=0.909, total=   0.0s\n",
      "[CV] algorithm=kd_tree, n_neighbors=3, p=2 ...........................\n",
      "[CV]  algorithm=kd_tree, n_neighbors=3, p=2, score=0.912, total=   0.0s\n",
      "[CV] algorithm=kd_tree, n_neighbors=3, p=2 ...........................\n",
      "[CV]  algorithm=kd_tree, n_neighbors=3, p=2, score=0.937, total=   0.0s\n",
      "[CV] algorithm=kd_tree, n_neighbors=3, p=2 ...........................\n",
      "[CV]  algorithm=kd_tree, n_neighbors=3, p=2, score=0.898, total=   0.0s\n",
      "[CV] algorithm=kd_tree, n_neighbors=3, p=3 ...........................\n",
      "[CV]  algorithm=kd_tree, n_neighbors=3, p=3, score=0.904, total=   0.3s\n",
      "[CV] algorithm=kd_tree, n_neighbors=3, p=3 ...........................\n",
      "[CV]  algorithm=kd_tree, n_neighbors=3, p=3, score=0.878, total=   0.3s\n",
      "[CV] algorithm=kd_tree, n_neighbors=3, p=3 ...........................\n",
      "[CV]  algorithm=kd_tree, n_neighbors=3, p=3, score=0.931, total=   0.4s\n",
      "[CV] algorithm=kd_tree, n_neighbors=3, p=3 ...........................\n",
      "[CV]  algorithm=kd_tree, n_neighbors=3, p=3, score=0.890, total=   0.3s\n",
      "[CV] algorithm=kd_tree, n_neighbors=3, p=3 ...........................\n",
      "[CV]  algorithm=kd_tree, n_neighbors=3, p=3, score=0.925, total=   0.3s\n",
      "[CV] algorithm=kd_tree, n_neighbors=3, p=3 ...........................\n",
      "[CV]  algorithm=kd_tree, n_neighbors=3, p=3, score=0.907, total=   0.3s\n",
      "[CV] algorithm=kd_tree, n_neighbors=3, p=3 ...........................\n",
      "[CV]  algorithm=kd_tree, n_neighbors=3, p=3, score=0.902, total=   0.3s\n",
      "[CV] algorithm=kd_tree, n_neighbors=3, p=3 ...........................\n",
      "[CV]  algorithm=kd_tree, n_neighbors=3, p=3, score=0.887, total=   0.3s\n",
      "[CV] algorithm=kd_tree, n_neighbors=3, p=3 ...........................\n",
      "[CV]  algorithm=kd_tree, n_neighbors=3, p=3, score=0.919, total=   0.3s\n",
      "[CV] algorithm=kd_tree, n_neighbors=3, p=3 ...........................\n",
      "[CV]  algorithm=kd_tree, n_neighbors=3, p=3, score=0.888, total=   0.3s\n",
      "[CV] algorithm=kd_tree, n_neighbors=5, p=1 ...........................\n",
      "[CV]  algorithm=kd_tree, n_neighbors=5, p=1, score=0.916, total=   0.0s\n",
      "[CV] algorithm=kd_tree, n_neighbors=5, p=1 ...........................\n",
      "[CV]  algorithm=kd_tree, n_neighbors=5, p=1, score=0.906, total=   0.1s\n",
      "[CV] algorithm=kd_tree, n_neighbors=5, p=1 ...........................\n",
      "[CV]  algorithm=kd_tree, n_neighbors=5, p=1, score=0.946, total=   0.0s\n",
      "[CV] algorithm=kd_tree, n_neighbors=5, p=1 ...........................\n",
      "[CV]  algorithm=kd_tree, n_neighbors=5, p=1, score=0.919, total=   0.1s\n",
      "[CV] algorithm=kd_tree, n_neighbors=5, p=1 ...........................\n",
      "[CV]  algorithm=kd_tree, n_neighbors=5, p=1, score=0.940, total=   0.0s\n",
      "[CV] algorithm=kd_tree, n_neighbors=5, p=1 ...........................\n",
      "[CV]  algorithm=kd_tree, n_neighbors=5, p=1, score=0.905, total=   0.0s\n",
      "[CV] algorithm=kd_tree, n_neighbors=5, p=1 ...........................\n",
      "[CV]  algorithm=kd_tree, n_neighbors=5, p=1, score=0.921, total=   0.0s\n",
      "[CV] algorithm=kd_tree, n_neighbors=5, p=1 ...........................\n",
      "[CV]  algorithm=kd_tree, n_neighbors=5, p=1, score=0.920, total=   0.0s\n",
      "[CV] algorithm=kd_tree, n_neighbors=5, p=1 ...........................\n",
      "[CV]  algorithm=kd_tree, n_neighbors=5, p=1, score=0.937, total=   0.1s\n",
      "[CV] algorithm=kd_tree, n_neighbors=5, p=1 ...........................\n",
      "[CV]  algorithm=kd_tree, n_neighbors=5, p=1, score=0.908, total=   0.0s\n",
      "[CV] algorithm=kd_tree, n_neighbors=5, p=2 ...........................\n",
      "[CV]  algorithm=kd_tree, n_neighbors=5, p=2, score=0.895, total=   0.0s\n",
      "[CV] algorithm=kd_tree, n_neighbors=5, p=2 ...........................\n",
      "[CV]  algorithm=kd_tree, n_neighbors=5, p=2, score=0.899, total=   0.0s\n",
      "[CV] algorithm=kd_tree, n_neighbors=5, p=2 ...........................\n",
      "[CV]  algorithm=kd_tree, n_neighbors=5, p=2, score=0.939, total=   0.1s\n",
      "[CV] algorithm=kd_tree, n_neighbors=5, p=2 ...........................\n",
      "[CV]  algorithm=kd_tree, n_neighbors=5, p=2, score=0.905, total=   0.0s\n",
      "[CV] algorithm=kd_tree, n_neighbors=5, p=2 ...........................\n",
      "[CV]  algorithm=kd_tree, n_neighbors=5, p=2, score=0.923, total=   0.0s\n",
      "[CV] algorithm=kd_tree, n_neighbors=5, p=2 ...........................\n",
      "[CV]  algorithm=kd_tree, n_neighbors=5, p=2, score=0.907, total=   0.0s\n",
      "[CV] algorithm=kd_tree, n_neighbors=5, p=2 ...........................\n",
      "[CV]  algorithm=kd_tree, n_neighbors=5, p=2, score=0.912, total=   0.0s\n",
      "[CV] algorithm=kd_tree, n_neighbors=5, p=2 ...........................\n",
      "[CV]  algorithm=kd_tree, n_neighbors=5, p=2, score=0.900, total=   0.1s\n",
      "[CV] algorithm=kd_tree, n_neighbors=5, p=2 ...........................\n",
      "[CV]  algorithm=kd_tree, n_neighbors=5, p=2, score=0.934, total=   0.0s\n",
      "[CV] algorithm=kd_tree, n_neighbors=5, p=2 ...........................\n",
      "[CV]  algorithm=kd_tree, n_neighbors=5, p=2, score=0.890, total=   0.0s\n",
      "[CV] algorithm=kd_tree, n_neighbors=5, p=3 ...........................\n",
      "[CV]  algorithm=kd_tree, n_neighbors=5, p=3, score=0.888, total=   0.4s\n",
      "[CV] algorithm=kd_tree, n_neighbors=5, p=3 ...........................\n",
      "[CV]  algorithm=kd_tree, n_neighbors=5, p=3, score=0.875, total=   0.4s\n",
      "[CV] algorithm=kd_tree, n_neighbors=5, p=3 ...........................\n",
      "[CV]  algorithm=kd_tree, n_neighbors=5, p=3, score=0.927, total=   0.4s\n",
      "[CV] algorithm=kd_tree, n_neighbors=5, p=3 ...........................\n",
      "[CV]  algorithm=kd_tree, n_neighbors=5, p=3, score=0.893, total=   0.4s\n",
      "[CV] algorithm=kd_tree, n_neighbors=5, p=3 ...........................\n",
      "[CV]  algorithm=kd_tree, n_neighbors=5, p=3, score=0.913, total=   0.4s\n",
      "[CV] algorithm=kd_tree, n_neighbors=5, p=3 ...........................\n",
      "[CV]  algorithm=kd_tree, n_neighbors=5, p=3, score=0.890, total=   0.4s\n",
      "[CV] algorithm=kd_tree, n_neighbors=5, p=3 ...........................\n",
      "[CV]  algorithm=kd_tree, n_neighbors=5, p=3, score=0.904, total=   0.4s\n",
      "[CV] algorithm=kd_tree, n_neighbors=5, p=3 ...........................\n",
      "[CV]  algorithm=kd_tree, n_neighbors=5, p=3, score=0.892, total=   0.4s\n",
      "[CV] algorithm=kd_tree, n_neighbors=5, p=3 ...........................\n",
      "[CV]  algorithm=kd_tree, n_neighbors=5, p=3, score=0.926, total=   0.4s\n",
      "[CV] algorithm=kd_tree, n_neighbors=5, p=3 ...........................\n",
      "[CV]  algorithm=kd_tree, n_neighbors=5, p=3, score=0.865, total=   0.4s\n",
      "[CV] algorithm=kd_tree, n_neighbors=9, p=1 ...........................\n",
      "[CV]  algorithm=kd_tree, n_neighbors=9, p=1, score=0.897, total=   0.1s\n",
      "[CV] algorithm=kd_tree, n_neighbors=9, p=1 ...........................\n",
      "[CV]  algorithm=kd_tree, n_neighbors=9, p=1, score=0.915, total=   0.1s\n",
      "[CV] algorithm=kd_tree, n_neighbors=9, p=1 ...........................\n",
      "[CV]  algorithm=kd_tree, n_neighbors=9, p=1, score=0.943, total=   0.0s\n",
      "[CV] algorithm=kd_tree, n_neighbors=9, p=1 ...........................\n",
      "[CV]  algorithm=kd_tree, n_neighbors=9, p=1, score=0.898, total=   0.1s\n",
      "[CV] algorithm=kd_tree, n_neighbors=9, p=1 ...........................\n",
      "[CV]  algorithm=kd_tree, n_neighbors=9, p=1, score=0.923, total=   0.1s\n",
      "[CV] algorithm=kd_tree, n_neighbors=9, p=1 ...........................\n",
      "[CV]  algorithm=kd_tree, n_neighbors=9, p=1, score=0.892, total=   0.1s\n",
      "[CV] algorithm=kd_tree, n_neighbors=9, p=1 ...........................\n",
      "[CV]  algorithm=kd_tree, n_neighbors=9, p=1, score=0.921, total=   0.0s\n",
      "[CV] algorithm=kd_tree, n_neighbors=9, p=1 ...........................\n"
     ]
    },
    {
     "name": "stdout",
     "output_type": "stream",
     "text": [
      "[CV]  algorithm=kd_tree, n_neighbors=9, p=1, score=0.910, total=   0.1s\n",
      "[CV] algorithm=kd_tree, n_neighbors=9, p=1 ...........................\n",
      "[CV]  algorithm=kd_tree, n_neighbors=9, p=1, score=0.926, total=   0.1s\n",
      "[CV] algorithm=kd_tree, n_neighbors=9, p=1 ...........................\n",
      "[CV]  algorithm=kd_tree, n_neighbors=9, p=1, score=0.906, total=   0.0s\n",
      "[CV] algorithm=kd_tree, n_neighbors=9, p=2 ...........................\n",
      "[CV]  algorithm=kd_tree, n_neighbors=9, p=2, score=0.883, total=   0.0s\n",
      "[CV] algorithm=kd_tree, n_neighbors=9, p=2 ...........................\n",
      "[CV]  algorithm=kd_tree, n_neighbors=9, p=2, score=0.899, total=   0.1s\n",
      "[CV] algorithm=kd_tree, n_neighbors=9, p=2 ...........................\n",
      "[CV]  algorithm=kd_tree, n_neighbors=9, p=2, score=0.936, total=   0.1s\n",
      "[CV] algorithm=kd_tree, n_neighbors=9, p=2 ...........................\n",
      "[CV]  algorithm=kd_tree, n_neighbors=9, p=2, score=0.900, total=   0.0s\n",
      "[CV] algorithm=kd_tree, n_neighbors=9, p=2 ...........................\n",
      "[CV]  algorithm=kd_tree, n_neighbors=9, p=2, score=0.901, total=   0.0s\n",
      "[CV] algorithm=kd_tree, n_neighbors=9, p=2 ...........................\n",
      "[CV]  algorithm=kd_tree, n_neighbors=9, p=2, score=0.880, total=   0.1s\n",
      "[CV] algorithm=kd_tree, n_neighbors=9, p=2 ...........................\n",
      "[CV]  algorithm=kd_tree, n_neighbors=9, p=2, score=0.904, total=   0.0s\n",
      "[CV] algorithm=kd_tree, n_neighbors=9, p=2 ...........................\n",
      "[CV]  algorithm=kd_tree, n_neighbors=9, p=2, score=0.910, total=   0.1s\n",
      "[CV] algorithm=kd_tree, n_neighbors=9, p=2 ...........................\n",
      "[CV]  algorithm=kd_tree, n_neighbors=9, p=2, score=0.919, total=   0.0s\n",
      "[CV] algorithm=kd_tree, n_neighbors=9, p=2 ...........................\n",
      "[CV]  algorithm=kd_tree, n_neighbors=9, p=2, score=0.875, total=   0.1s\n",
      "[CV] algorithm=kd_tree, n_neighbors=9, p=3 ...........................\n",
      "[CV]  algorithm=kd_tree, n_neighbors=9, p=3, score=0.881, total=   0.5s\n",
      "[CV] algorithm=kd_tree, n_neighbors=9, p=3 ...........................\n",
      "[CV]  algorithm=kd_tree, n_neighbors=9, p=3, score=0.873, total=   0.5s\n",
      "[CV] algorithm=kd_tree, n_neighbors=9, p=3 ...........................\n",
      "[CV]  algorithm=kd_tree, n_neighbors=9, p=3, score=0.920, total=   0.5s\n",
      "[CV] algorithm=kd_tree, n_neighbors=9, p=3 ...........................\n",
      "[CV]  algorithm=kd_tree, n_neighbors=9, p=3, score=0.902, total=   0.5s\n",
      "[CV] algorithm=kd_tree, n_neighbors=9, p=3 ...........................\n",
      "[CV]  algorithm=kd_tree, n_neighbors=9, p=3, score=0.904, total=   0.6s\n",
      "[CV] algorithm=kd_tree, n_neighbors=9, p=3 ...........................\n",
      "[CV]  algorithm=kd_tree, n_neighbors=9, p=3, score=0.883, total=   0.5s\n",
      "[CV] algorithm=kd_tree, n_neighbors=9, p=3 ...........................\n",
      "[CV]  algorithm=kd_tree, n_neighbors=9, p=3, score=0.885, total=   0.4s\n",
      "[CV] algorithm=kd_tree, n_neighbors=9, p=3 ...........................\n",
      "[CV]  algorithm=kd_tree, n_neighbors=9, p=3, score=0.890, total=   0.5s\n",
      "[CV] algorithm=kd_tree, n_neighbors=9, p=3 ...........................\n",
      "[CV]  algorithm=kd_tree, n_neighbors=9, p=3, score=0.909, total=   0.5s\n",
      "[CV] algorithm=kd_tree, n_neighbors=9, p=3 ...........................\n",
      "[CV]  algorithm=kd_tree, n_neighbors=9, p=3, score=0.862, total=   0.4s\n",
      "[CV] algorithm=kd_tree, n_neighbors=15, p=1 ..........................\n",
      "[CV]  algorithm=kd_tree, n_neighbors=15, p=1, score=0.883, total=   0.0s\n",
      "[CV] algorithm=kd_tree, n_neighbors=15, p=1 ..........................\n",
      "[CV]  algorithm=kd_tree, n_neighbors=15, p=1, score=0.887, total=   0.1s\n",
      "[CV] algorithm=kd_tree, n_neighbors=15, p=1 ..........................\n",
      "[CV]  algorithm=kd_tree, n_neighbors=15, p=1, score=0.931, total=   0.1s\n",
      "[CV] algorithm=kd_tree, n_neighbors=15, p=1 ..........................\n",
      "[CV]  algorithm=kd_tree, n_neighbors=15, p=1, score=0.893, total=   0.1s\n",
      "[CV] algorithm=kd_tree, n_neighbors=15, p=1 ..........................\n",
      "[CV]  algorithm=kd_tree, n_neighbors=15, p=1, score=0.908, total=   0.0s\n",
      "[CV] algorithm=kd_tree, n_neighbors=15, p=1 ..........................\n",
      "[CV]  algorithm=kd_tree, n_neighbors=15, p=1, score=0.875, total=   0.1s\n",
      "[CV] algorithm=kd_tree, n_neighbors=15, p=1 ..........................\n",
      "[CV]  algorithm=kd_tree, n_neighbors=15, p=1, score=0.902, total=   0.1s\n",
      "[CV] algorithm=kd_tree, n_neighbors=15, p=1 ..........................\n",
      "[CV]  algorithm=kd_tree, n_neighbors=15, p=1, score=0.905, total=   0.1s\n",
      "[CV] algorithm=kd_tree, n_neighbors=15, p=1 ..........................\n",
      "[CV]  algorithm=kd_tree, n_neighbors=15, p=1, score=0.921, total=   0.0s\n",
      "[CV] algorithm=kd_tree, n_neighbors=15, p=1 ..........................\n",
      "[CV]  algorithm=kd_tree, n_neighbors=15, p=1, score=0.885, total=   0.1s\n",
      "[CV] algorithm=kd_tree, n_neighbors=15, p=2 ..........................\n",
      "[CV]  algorithm=kd_tree, n_neighbors=15, p=2, score=0.867, total=   0.0s\n",
      "[CV] algorithm=kd_tree, n_neighbors=15, p=2 ..........................\n",
      "[CV]  algorithm=kd_tree, n_neighbors=15, p=2, score=0.871, total=   0.1s\n",
      "[CV] algorithm=kd_tree, n_neighbors=15, p=2 ..........................\n",
      "[CV]  algorithm=kd_tree, n_neighbors=15, p=2, score=0.920, total=   0.0s\n",
      "[CV] algorithm=kd_tree, n_neighbors=15, p=2 ..........................\n",
      "[CV]  algorithm=kd_tree, n_neighbors=15, p=2, score=0.886, total=   0.1s\n",
      "[CV] algorithm=kd_tree, n_neighbors=15, p=2 ..........................\n",
      "[CV]  algorithm=kd_tree, n_neighbors=15, p=2, score=0.894, total=   0.1s\n",
      "[CV] algorithm=kd_tree, n_neighbors=15, p=2 ..........................\n",
      "[CV]  algorithm=kd_tree, n_neighbors=15, p=2, score=0.863, total=   0.1s\n",
      "[CV] algorithm=kd_tree, n_neighbors=15, p=2 ..........................\n",
      "[CV]  algorithm=kd_tree, n_neighbors=15, p=2, score=0.867, total=   0.0s\n",
      "[CV] algorithm=kd_tree, n_neighbors=15, p=2 ..........................\n",
      "[CV]  algorithm=kd_tree, n_neighbors=15, p=2, score=0.887, total=   0.1s\n",
      "[CV] algorithm=kd_tree, n_neighbors=15, p=2 ..........................\n",
      "[CV]  algorithm=kd_tree, n_neighbors=15, p=2, score=0.901, total=   0.1s\n",
      "[CV] algorithm=kd_tree, n_neighbors=15, p=2 ..........................\n",
      "[CV]  algorithm=kd_tree, n_neighbors=15, p=2, score=0.837, total=   0.1s\n",
      "[CV] algorithm=kd_tree, n_neighbors=15, p=3 ..........................\n",
      "[CV]  algorithm=kd_tree, n_neighbors=15, p=3, score=0.857, total=   0.6s\n",
      "[CV] algorithm=kd_tree, n_neighbors=15, p=3 ..........................\n",
      "[CV]  algorithm=kd_tree, n_neighbors=15, p=3, score=0.859, total=   0.6s\n",
      "[CV] algorithm=kd_tree, n_neighbors=15, p=3 ..........................\n",
      "[CV]  algorithm=kd_tree, n_neighbors=15, p=3, score=0.894, total=   0.6s\n",
      "[CV] algorithm=kd_tree, n_neighbors=15, p=3 ..........................\n",
      "[CV]  algorithm=kd_tree, n_neighbors=15, p=3, score=0.883, total=   0.7s\n",
      "[CV] algorithm=kd_tree, n_neighbors=15, p=3 ..........................\n",
      "[CV]  algorithm=kd_tree, n_neighbors=15, p=3, score=0.880, total=   0.6s\n",
      "[CV] algorithm=kd_tree, n_neighbors=15, p=3 ..........................\n",
      "[CV]  algorithm=kd_tree, n_neighbors=15, p=3, score=0.861, total=   0.6s\n",
      "[CV] algorithm=kd_tree, n_neighbors=15, p=3 ..........................\n",
      "[CV]  algorithm=kd_tree, n_neighbors=15, p=3, score=0.860, total=   0.6s\n",
      "[CV] algorithm=kd_tree, n_neighbors=15, p=3 ..........................\n",
      "[CV]  algorithm=kd_tree, n_neighbors=15, p=3, score=0.872, total=   0.7s\n",
      "[CV] algorithm=kd_tree, n_neighbors=15, p=3 ..........................\n",
      "[CV]  algorithm=kd_tree, n_neighbors=15, p=3, score=0.896, total=   0.7s\n",
      "[CV] algorithm=kd_tree, n_neighbors=15, p=3 ..........................\n",
      "[CV]  algorithm=kd_tree, n_neighbors=15, p=3, score=0.819, total=   0.5s\n",
      "[CV] algorithm=brute, n_neighbors=3, p=1 .............................\n",
      "[CV] . algorithm=brute, n_neighbors=3, p=1, score=0.916, total=   0.1s\n",
      "[CV] algorithm=brute, n_neighbors=3, p=1 .............................\n",
      "[CV] . algorithm=brute, n_neighbors=3, p=1, score=0.911, total=   0.0s\n",
      "[CV] algorithm=brute, n_neighbors=3, p=1 .............................\n",
      "[CV] . algorithm=brute, n_neighbors=3, p=1, score=0.943, total=   0.1s\n",
      "[CV] algorithm=brute, n_neighbors=3, p=1 .............................\n",
      "[CV] . algorithm=brute, n_neighbors=3, p=1, score=0.907, total=   0.1s\n",
      "[CV] algorithm=brute, n_neighbors=3, p=1 .............................\n",
      "[CV] . algorithm=brute, n_neighbors=3, p=1, score=0.930, total=   0.1s\n",
      "[CV] algorithm=brute, n_neighbors=3, p=1 .............................\n",
      "[CV] . algorithm=brute, n_neighbors=3, p=1, score=0.910, total=   0.0s\n",
      "[CV] algorithm=brute, n_neighbors=3, p=1 .............................\n"
     ]
    },
    {
     "name": "stdout",
     "output_type": "stream",
     "text": [
      "[CV] . algorithm=brute, n_neighbors=3, p=1, score=0.914, total=   0.1s\n",
      "[CV] algorithm=brute, n_neighbors=3, p=1 .............................\n",
      "[CV] . algorithm=brute, n_neighbors=3, p=1, score=0.925, total=   0.0s\n",
      "[CV] algorithm=brute, n_neighbors=3, p=1 .............................\n",
      "[CV] . algorithm=brute, n_neighbors=3, p=1, score=0.914, total=   0.1s\n",
      "[CV] algorithm=brute, n_neighbors=3, p=1 .............................\n",
      "[CV] . algorithm=brute, n_neighbors=3, p=1, score=0.906, total=   0.0s\n",
      "[CV] algorithm=brute, n_neighbors=3, p=2 .............................\n",
      "[CV] . algorithm=brute, n_neighbors=3, p=2, score=0.909, total=   0.1s\n",
      "[CV] algorithm=brute, n_neighbors=3, p=2 .............................\n",
      "[CV] . algorithm=brute, n_neighbors=3, p=2, score=0.889, total=   0.0s\n",
      "[CV] algorithm=brute, n_neighbors=3, p=2 .............................\n",
      "[CV] . algorithm=brute, n_neighbors=3, p=2, score=0.941, total=   0.0s\n",
      "[CV] algorithm=brute, n_neighbors=3, p=2 .............................\n",
      "[CV] . algorithm=brute, n_neighbors=3, p=2, score=0.924, total=   0.0s\n",
      "[CV] algorithm=brute, n_neighbors=3, p=2 .............................\n",
      "[CV] . algorithm=brute, n_neighbors=3, p=2, score=0.925, total=   0.1s\n",
      "[CV] algorithm=brute, n_neighbors=3, p=2 .............................\n",
      "[CV] . algorithm=brute, n_neighbors=3, p=2, score=0.912, total=   0.0s\n",
      "[CV] algorithm=brute, n_neighbors=3, p=2 .............................\n",
      "[CV] . algorithm=brute, n_neighbors=3, p=2, score=0.909, total=   0.1s\n",
      "[CV] algorithm=brute, n_neighbors=3, p=2 .............................\n",
      "[CV] . algorithm=brute, n_neighbors=3, p=2, score=0.912, total=   0.0s\n",
      "[CV] algorithm=brute, n_neighbors=3, p=2 .............................\n",
      "[CV] . algorithm=brute, n_neighbors=3, p=2, score=0.937, total=   0.1s\n",
      "[CV] algorithm=brute, n_neighbors=3, p=2 .............................\n",
      "[CV] . algorithm=brute, n_neighbors=3, p=2, score=0.898, total=   0.0s\n",
      "[CV] algorithm=brute, n_neighbors=3, p=3 .............................\n",
      "[CV] . algorithm=brute, n_neighbors=3, p=3, score=0.904, total=   1.4s\n",
      "[CV] algorithm=brute, n_neighbors=3, p=3 .............................\n",
      "[CV] . algorithm=brute, n_neighbors=3, p=3, score=0.878, total=   1.4s\n",
      "[CV] algorithm=brute, n_neighbors=3, p=3 .............................\n",
      "[CV] . algorithm=brute, n_neighbors=3, p=3, score=0.931, total=   1.4s\n",
      "[CV] algorithm=brute, n_neighbors=3, p=3 .............................\n",
      "[CV] . algorithm=brute, n_neighbors=3, p=3, score=0.890, total=   1.6s\n",
      "[CV] algorithm=brute, n_neighbors=3, p=3 .............................\n",
      "[CV] . algorithm=brute, n_neighbors=3, p=3, score=0.925, total=   1.3s\n",
      "[CV] algorithm=brute, n_neighbors=3, p=3 .............................\n",
      "[CV] . algorithm=brute, n_neighbors=3, p=3, score=0.907, total=   1.3s\n",
      "[CV] algorithm=brute, n_neighbors=3, p=3 .............................\n",
      "[CV] . algorithm=brute, n_neighbors=3, p=3, score=0.902, total=   1.3s\n",
      "[CV] algorithm=brute, n_neighbors=3, p=3 .............................\n",
      "[CV] . algorithm=brute, n_neighbors=3, p=3, score=0.887, total=   1.4s\n",
      "[CV] algorithm=brute, n_neighbors=3, p=3 .............................\n",
      "[CV] . algorithm=brute, n_neighbors=3, p=3, score=0.919, total=   1.3s\n",
      "[CV] algorithm=brute, n_neighbors=3, p=3 .............................\n",
      "[CV] . algorithm=brute, n_neighbors=3, p=3, score=0.888, total=   1.5s\n",
      "[CV] algorithm=brute, n_neighbors=5, p=1 .............................\n",
      "[CV] . algorithm=brute, n_neighbors=5, p=1, score=0.916, total=   0.1s\n",
      "[CV] algorithm=brute, n_neighbors=5, p=1 .............................\n",
      "[CV] . algorithm=brute, n_neighbors=5, p=1, score=0.906, total=   0.1s\n",
      "[CV] algorithm=brute, n_neighbors=5, p=1 .............................\n",
      "[CV] . algorithm=brute, n_neighbors=5, p=1, score=0.946, total=   0.1s\n",
      "[CV] algorithm=brute, n_neighbors=5, p=1 .............................\n",
      "[CV] . algorithm=brute, n_neighbors=5, p=1, score=0.919, total=   0.1s\n",
      "[CV] algorithm=brute, n_neighbors=5, p=1 .............................\n",
      "[CV] . algorithm=brute, n_neighbors=5, p=1, score=0.940, total=   0.1s\n",
      "[CV] algorithm=brute, n_neighbors=5, p=1 .............................\n",
      "[CV] . algorithm=brute, n_neighbors=5, p=1, score=0.905, total=   0.1s\n",
      "[CV] algorithm=brute, n_neighbors=5, p=1 .............................\n",
      "[CV] . algorithm=brute, n_neighbors=5, p=1, score=0.921, total=   0.1s\n",
      "[CV] algorithm=brute, n_neighbors=5, p=1 .............................\n",
      "[CV] . algorithm=brute, n_neighbors=5, p=1, score=0.920, total=   0.1s\n",
      "[CV] algorithm=brute, n_neighbors=5, p=1 .............................\n",
      "[CV] . algorithm=brute, n_neighbors=5, p=1, score=0.937, total=   0.1s\n",
      "[CV] algorithm=brute, n_neighbors=5, p=1 .............................\n",
      "[CV] . algorithm=brute, n_neighbors=5, p=1, score=0.908, total=   0.1s\n",
      "[CV] algorithm=brute, n_neighbors=5, p=2 .............................\n",
      "[CV] . algorithm=brute, n_neighbors=5, p=2, score=0.895, total=   0.1s\n",
      "[CV] algorithm=brute, n_neighbors=5, p=2 .............................\n",
      "[CV] . algorithm=brute, n_neighbors=5, p=2, score=0.899, total=   0.1s\n",
      "[CV] algorithm=brute, n_neighbors=5, p=2 .............................\n",
      "[CV] . algorithm=brute, n_neighbors=5, p=2, score=0.939, total=   0.1s\n",
      "[CV] algorithm=brute, n_neighbors=5, p=2 .............................\n",
      "[CV] . algorithm=brute, n_neighbors=5, p=2, score=0.905, total=   0.1s\n",
      "[CV] algorithm=brute, n_neighbors=5, p=2 .............................\n",
      "[CV] . algorithm=brute, n_neighbors=5, p=2, score=0.923, total=   0.1s\n",
      "[CV] algorithm=brute, n_neighbors=5, p=2 .............................\n",
      "[CV] . algorithm=brute, n_neighbors=5, p=2, score=0.907, total=   0.1s\n",
      "[CV] algorithm=brute, n_neighbors=5, p=2 .............................\n",
      "[CV] . algorithm=brute, n_neighbors=5, p=2, score=0.912, total=   0.1s\n",
      "[CV] algorithm=brute, n_neighbors=5, p=2 .............................\n",
      "[CV] . algorithm=brute, n_neighbors=5, p=2, score=0.900, total=   0.1s\n",
      "[CV] algorithm=brute, n_neighbors=5, p=2 .............................\n",
      "[CV] . algorithm=brute, n_neighbors=5, p=2, score=0.934, total=   0.1s\n",
      "[CV] algorithm=brute, n_neighbors=5, p=2 .............................\n",
      "[CV] . algorithm=brute, n_neighbors=5, p=2, score=0.890, total=   0.1s\n",
      "[CV] algorithm=brute, n_neighbors=5, p=3 .............................\n",
      "[CV] . algorithm=brute, n_neighbors=5, p=3, score=0.888, total=   1.6s\n",
      "[CV] algorithm=brute, n_neighbors=5, p=3 .............................\n",
      "[CV] . algorithm=brute, n_neighbors=5, p=3, score=0.875, total=   1.4s\n",
      "[CV] algorithm=brute, n_neighbors=5, p=3 .............................\n",
      "[CV] . algorithm=brute, n_neighbors=5, p=3, score=0.927, total=   1.6s\n",
      "[CV] algorithm=brute, n_neighbors=5, p=3 .............................\n",
      "[CV] . algorithm=brute, n_neighbors=5, p=3, score=0.893, total=   1.5s\n",
      "[CV] algorithm=brute, n_neighbors=5, p=3 .............................\n",
      "[CV] . algorithm=brute, n_neighbors=5, p=3, score=0.913, total=   1.5s\n",
      "[CV] algorithm=brute, n_neighbors=5, p=3 .............................\n",
      "[CV] . algorithm=brute, n_neighbors=5, p=3, score=0.890, total=   1.4s\n",
      "[CV] algorithm=brute, n_neighbors=5, p=3 .............................\n",
      "[CV] . algorithm=brute, n_neighbors=5, p=3, score=0.904, total=   1.3s\n",
      "[CV] algorithm=brute, n_neighbors=5, p=3 .............................\n",
      "[CV] . algorithm=brute, n_neighbors=5, p=3, score=0.892, total=   1.3s\n",
      "[CV] algorithm=brute, n_neighbors=5, p=3 .............................\n",
      "[CV] . algorithm=brute, n_neighbors=5, p=3, score=0.926, total=   1.3s\n",
      "[CV] algorithm=brute, n_neighbors=5, p=3 .............................\n",
      "[CV] . algorithm=brute, n_neighbors=5, p=3, score=0.865, total=   1.5s\n",
      "[CV] algorithm=brute, n_neighbors=9, p=1 .............................\n",
      "[CV] . algorithm=brute, n_neighbors=9, p=1, score=0.897, total=   0.1s\n",
      "[CV] algorithm=brute, n_neighbors=9, p=1 .............................\n",
      "[CV] . algorithm=brute, n_neighbors=9, p=1, score=0.915, total=   0.1s\n",
      "[CV] algorithm=brute, n_neighbors=9, p=1 .............................\n",
      "[CV] . algorithm=brute, n_neighbors=9, p=1, score=0.943, total=   0.1s\n",
      "[CV] algorithm=brute, n_neighbors=9, p=1 .............................\n",
      "[CV] . algorithm=brute, n_neighbors=9, p=1, score=0.898, total=   0.1s\n",
      "[CV] algorithm=brute, n_neighbors=9, p=1 .............................\n",
      "[CV] . algorithm=brute, n_neighbors=9, p=1, score=0.923, total=   0.1s\n",
      "[CV] algorithm=brute, n_neighbors=9, p=1 .............................\n"
     ]
    },
    {
     "name": "stdout",
     "output_type": "stream",
     "text": [
      "[CV] . algorithm=brute, n_neighbors=9, p=1, score=0.892, total=   0.1s\n",
      "[CV] algorithm=brute, n_neighbors=9, p=1 .............................\n",
      "[CV] . algorithm=brute, n_neighbors=9, p=1, score=0.921, total=   0.1s\n",
      "[CV] algorithm=brute, n_neighbors=9, p=1 .............................\n",
      "[CV] . algorithm=brute, n_neighbors=9, p=1, score=0.910, total=   0.1s\n",
      "[CV] algorithm=brute, n_neighbors=9, p=1 .............................\n",
      "[CV] . algorithm=brute, n_neighbors=9, p=1, score=0.926, total=   0.1s\n",
      "[CV] algorithm=brute, n_neighbors=9, p=1 .............................\n",
      "[CV] . algorithm=brute, n_neighbors=9, p=1, score=0.906, total=   0.1s\n",
      "[CV] algorithm=brute, n_neighbors=9, p=2 .............................\n",
      "[CV] . algorithm=brute, n_neighbors=9, p=2, score=0.883, total=   0.1s\n",
      "[CV] algorithm=brute, n_neighbors=9, p=2 .............................\n",
      "[CV] . algorithm=brute, n_neighbors=9, p=2, score=0.899, total=   0.1s\n",
      "[CV] algorithm=brute, n_neighbors=9, p=2 .............................\n",
      "[CV] . algorithm=brute, n_neighbors=9, p=2, score=0.936, total=   0.1s\n",
      "[CV] algorithm=brute, n_neighbors=9, p=2 .............................\n",
      "[CV] . algorithm=brute, n_neighbors=9, p=2, score=0.900, total=   0.1s\n",
      "[CV] algorithm=brute, n_neighbors=9, p=2 .............................\n",
      "[CV] . algorithm=brute, n_neighbors=9, p=2, score=0.901, total=   0.1s\n",
      "[CV] algorithm=brute, n_neighbors=9, p=2 .............................\n",
      "[CV] . algorithm=brute, n_neighbors=9, p=2, score=0.880, total=   0.1s\n",
      "[CV] algorithm=brute, n_neighbors=9, p=2 .............................\n",
      "[CV] . algorithm=brute, n_neighbors=9, p=2, score=0.904, total=   0.1s\n",
      "[CV] algorithm=brute, n_neighbors=9, p=2 .............................\n",
      "[CV] . algorithm=brute, n_neighbors=9, p=2, score=0.910, total=   0.1s\n",
      "[CV] algorithm=brute, n_neighbors=9, p=2 .............................\n",
      "[CV] . algorithm=brute, n_neighbors=9, p=2, score=0.919, total=   0.0s\n",
      "[CV] algorithm=brute, n_neighbors=9, p=2 .............................\n",
      "[CV] . algorithm=brute, n_neighbors=9, p=2, score=0.875, total=   0.0s\n",
      "[CV] algorithm=brute, n_neighbors=9, p=3 .............................\n",
      "[CV] . algorithm=brute, n_neighbors=9, p=3, score=0.881, total=   1.4s\n",
      "[CV] algorithm=brute, n_neighbors=9, p=3 .............................\n",
      "[CV] . algorithm=brute, n_neighbors=9, p=3, score=0.873, total=   1.4s\n",
      "[CV] algorithm=brute, n_neighbors=9, p=3 .............................\n",
      "[CV] . algorithm=brute, n_neighbors=9, p=3, score=0.920, total=   1.4s\n",
      "[CV] algorithm=brute, n_neighbors=9, p=3 .............................\n",
      "[CV] . algorithm=brute, n_neighbors=9, p=3, score=0.902, total=   1.4s\n",
      "[CV] algorithm=brute, n_neighbors=9, p=3 .............................\n",
      "[CV] . algorithm=brute, n_neighbors=9, p=3, score=0.904, total=   1.3s\n",
      "[CV] algorithm=brute, n_neighbors=9, p=3 .............................\n",
      "[CV] . algorithm=brute, n_neighbors=9, p=3, score=0.883, total=   1.3s\n",
      "[CV] algorithm=brute, n_neighbors=9, p=3 .............................\n",
      "[CV] . algorithm=brute, n_neighbors=9, p=3, score=0.885, total=   1.3s\n",
      "[CV] algorithm=brute, n_neighbors=9, p=3 .............................\n",
      "[CV] . algorithm=brute, n_neighbors=9, p=3, score=0.890, total=   1.3s\n",
      "[CV] algorithm=brute, n_neighbors=9, p=3 .............................\n",
      "[CV] . algorithm=brute, n_neighbors=9, p=3, score=0.909, total=   1.3s\n",
      "[CV] algorithm=brute, n_neighbors=9, p=3 .............................\n",
      "[CV] . algorithm=brute, n_neighbors=9, p=3, score=0.862, total=   1.3s\n",
      "[CV] algorithm=brute, n_neighbors=15, p=1 ............................\n",
      "[CV]  algorithm=brute, n_neighbors=15, p=1, score=0.883, total=   0.1s\n",
      "[CV] algorithm=brute, n_neighbors=15, p=1 ............................\n",
      "[CV]  algorithm=brute, n_neighbors=15, p=1, score=0.887, total=   0.1s\n",
      "[CV] algorithm=brute, n_neighbors=15, p=1 ............................\n",
      "[CV]  algorithm=brute, n_neighbors=15, p=1, score=0.931, total=   0.1s\n",
      "[CV] algorithm=brute, n_neighbors=15, p=1 ............................\n",
      "[CV]  algorithm=brute, n_neighbors=15, p=1, score=0.893, total=   0.1s\n",
      "[CV] algorithm=brute, n_neighbors=15, p=1 ............................\n",
      "[CV]  algorithm=brute, n_neighbors=15, p=1, score=0.908, total=   0.1s\n",
      "[CV] algorithm=brute, n_neighbors=15, p=1 ............................\n",
      "[CV]  algorithm=brute, n_neighbors=15, p=1, score=0.875, total=   0.0s\n",
      "[CV] algorithm=brute, n_neighbors=15, p=1 ............................\n",
      "[CV]  algorithm=brute, n_neighbors=15, p=1, score=0.902, total=   0.1s\n",
      "[CV] algorithm=brute, n_neighbors=15, p=1 ............................\n",
      "[CV]  algorithm=brute, n_neighbors=15, p=1, score=0.905, total=   0.1s\n",
      "[CV] algorithm=brute, n_neighbors=15, p=1 ............................\n",
      "[CV]  algorithm=brute, n_neighbors=15, p=1, score=0.921, total=   0.0s\n",
      "[CV] algorithm=brute, n_neighbors=15, p=1 ............................\n",
      "[CV]  algorithm=brute, n_neighbors=15, p=1, score=0.885, total=   0.1s\n",
      "[CV] algorithm=brute, n_neighbors=15, p=2 ............................\n",
      "[CV]  algorithm=brute, n_neighbors=15, p=2, score=0.867, total=   0.1s\n",
      "[CV] algorithm=brute, n_neighbors=15, p=2 ............................\n",
      "[CV]  algorithm=brute, n_neighbors=15, p=2, score=0.871, total=   0.1s\n",
      "[CV] algorithm=brute, n_neighbors=15, p=2 ............................\n",
      "[CV]  algorithm=brute, n_neighbors=15, p=2, score=0.920, total=   0.1s\n",
      "[CV] algorithm=brute, n_neighbors=15, p=2 ............................\n",
      "[CV]  algorithm=brute, n_neighbors=15, p=2, score=0.886, total=   0.1s\n",
      "[CV] algorithm=brute, n_neighbors=15, p=2 ............................\n",
      "[CV]  algorithm=brute, n_neighbors=15, p=2, score=0.894, total=   0.1s\n",
      "[CV] algorithm=brute, n_neighbors=15, p=2 ............................\n",
      "[CV]  algorithm=brute, n_neighbors=15, p=2, score=0.863, total=   0.1s\n",
      "[CV] algorithm=brute, n_neighbors=15, p=2 ............................\n",
      "[CV]  algorithm=brute, n_neighbors=15, p=2, score=0.867, total=   0.1s\n",
      "[CV] algorithm=brute, n_neighbors=15, p=2 ............................\n",
      "[CV]  algorithm=brute, n_neighbors=15, p=2, score=0.887, total=   0.0s\n",
      "[CV] algorithm=brute, n_neighbors=15, p=2 ............................\n",
      "[CV]  algorithm=brute, n_neighbors=15, p=2, score=0.901, total=   0.1s\n",
      "[CV] algorithm=brute, n_neighbors=15, p=2 ............................\n",
      "[CV]  algorithm=brute, n_neighbors=15, p=2, score=0.837, total=   0.1s\n",
      "[CV] algorithm=brute, n_neighbors=15, p=3 ............................\n",
      "[CV]  algorithm=brute, n_neighbors=15, p=3, score=0.857, total=   1.4s\n",
      "[CV] algorithm=brute, n_neighbors=15, p=3 ............................\n",
      "[CV]  algorithm=brute, n_neighbors=15, p=3, score=0.859, total=   1.3s\n",
      "[CV] algorithm=brute, n_neighbors=15, p=3 ............................\n",
      "[CV]  algorithm=brute, n_neighbors=15, p=3, score=0.894, total=   1.3s\n",
      "[CV] algorithm=brute, n_neighbors=15, p=3 ............................\n",
      "[CV]  algorithm=brute, n_neighbors=15, p=3, score=0.883, total=   1.3s\n",
      "[CV] algorithm=brute, n_neighbors=15, p=3 ............................\n",
      "[CV]  algorithm=brute, n_neighbors=15, p=3, score=0.880, total=   1.3s\n",
      "[CV] algorithm=brute, n_neighbors=15, p=3 ............................\n",
      "[CV]  algorithm=brute, n_neighbors=15, p=3, score=0.861, total=   1.3s\n",
      "[CV] algorithm=brute, n_neighbors=15, p=3 ............................\n",
      "[CV]  algorithm=brute, n_neighbors=15, p=3, score=0.860, total=   1.3s\n",
      "[CV] algorithm=brute, n_neighbors=15, p=3 ............................\n",
      "[CV]  algorithm=brute, n_neighbors=15, p=3, score=0.872, total=   1.3s\n",
      "[CV] algorithm=brute, n_neighbors=15, p=3 ............................\n",
      "[CV]  algorithm=brute, n_neighbors=15, p=3, score=0.896, total=   1.3s\n",
      "[CV] algorithm=brute, n_neighbors=15, p=3 ............................\n",
      "[CV]  algorithm=brute, n_neighbors=15, p=3, score=0.819, total=   1.3s\n"
     ]
    },
    {
     "name": "stderr",
     "output_type": "stream",
     "text": [
      "[Parallel(n_jobs=1)]: Done 480 out of 480 | elapsed:  2.7min finished\n"
     ]
    },
    {
     "data": {
      "text/plain": [
       "GridSearchCV(cv=10, error_score='raise-deprecating',\n",
       "             estimator=KNeighborsClassifier(algorithm='auto', leaf_size=30,\n",
       "                                            metric='minkowski',\n",
       "                                            metric_params=None, n_jobs=None,\n",
       "                                            n_neighbors=5, p=2,\n",
       "                                            weights='uniform'),\n",
       "             iid='warn', n_jobs=None,\n",
       "             param_grid={'algorithm': ['auto', 'ball_tree', 'kd_tree', 'brute'],\n",
       "                         'n_neighbors': [3, 5, 9, 15], 'p': [1, 2, 3]},\n",
       "             pre_dispatch='2*n_jobs', refit=True, return_train_score=False,\n",
       "             scoring=None, verbose=10)"
      ]
     },
     "execution_count": 113,
     "metadata": {},
     "output_type": "execute_result"
    }
   ],
   "source": [
    "gs.fit(X_train, y_train)"
   ]
  },
  {
   "cell_type": "code",
   "execution_count": 114,
   "metadata": {},
   "outputs": [
    {
     "name": "stdout",
     "output_type": "stream",
     "text": [
      "KNeighborsClassifier(algorithm='auto', leaf_size=30, metric='minkowski',\n",
      "                     metric_params=None, n_jobs=None, n_neighbors=5, p=1,\n",
      "                     weights='uniform')\n"
     ]
    }
   ],
   "source": [
    "print(gs.best_estimator_)"
   ]
  },
  {
   "cell_type": "code",
   "execution_count": 115,
   "metadata": {},
   "outputs": [
    {
     "data": {
      "text/plain": [
       "KNeighborsClassifier(algorithm='auto', leaf_size=30, metric='minkowski',\n",
       "                     metric_params=None, n_jobs=1, n_neighbors=3, p=1,\n",
       "                     weights='uniform')"
      ]
     },
     "execution_count": 115,
     "metadata": {},
     "output_type": "execute_result"
    }
   ],
   "source": [
    "new_knn = KNeighborsClassifier(algorithm='auto', leaf_size=30, metric='minkowski',\n",
    "           metric_params=None, n_jobs=1, n_neighbors=3, p=1,\n",
    "           weights='uniform')\n",
    "new_knn.fit(X_train, y_train)"
   ]
  },
  {
   "cell_type": "code",
   "execution_count": 116,
   "metadata": {},
   "outputs": [
    {
     "name": "stdout",
     "output_type": "stream",
     "text": [
      "KNN - fine tuned, got 92.45604083947816% accuracy on the test set.\n"
     ]
    }
   ],
   "source": [
    "print(\"KNN - fine tuned, got {}% accuracy on the test set.\".format(accuracy_score(y_test, new_knn.predict(X_test))*100))"
   ]
  },
  {
   "cell_type": "markdown",
   "metadata": {},
   "source": [
    "#### Step 2.1.2 Logistic Regression"
   ]
  },
  {
   "cell_type": "code",
   "execution_count": 117,
   "metadata": {},
   "outputs": [],
   "source": [
    "from sklearn.linear_model import LogisticRegression"
   ]
  },
  {
   "cell_type": "code",
   "execution_count": 118,
   "metadata": {},
   "outputs": [
    {
     "data": {
      "text/plain": [
       "LogisticRegression(C=1.0, class_weight=None, dual=False, fit_intercept=True,\n",
       "                   intercept_scaling=1, l1_ratio=None, max_iter=100,\n",
       "                   multi_class='warn', n_jobs=None, penalty='l2',\n",
       "                   random_state=None, solver='warn', tol=0.0001, verbose=0,\n",
       "                   warm_start=False)"
      ]
     },
     "execution_count": 118,
     "metadata": {},
     "output_type": "execute_result"
    }
   ],
   "source": [
    "lr = LogisticRegression()\n",
    "lr.fit(X_train, y_train)"
   ]
  },
  {
   "cell_type": "code",
   "execution_count": 119,
   "metadata": {},
   "outputs": [
    {
     "name": "stdout",
     "output_type": "stream",
     "text": [
      "Logistic regression - default, got 91.88882586500283% accuracy on the test set.\n"
     ]
    }
   ],
   "source": [
    "print(\"Logistic regression - default, got {}% accuracy on the test set.\".format(accuracy_score(y_test, lr.predict(X_test))*100))"
   ]
  },
  {
   "cell_type": "code",
   "execution_count": 120,
   "metadata": {},
   "outputs": [
    {
     "data": {
      "text/plain": [
       "LogisticRegression(C=1000, class_weight=None, dual=False, fit_intercept=True,\n",
       "                   intercept_scaling=1, l1_ratio=None, max_iter=100,\n",
       "                   multi_class='warn', n_jobs=None, penalty='l2',\n",
       "                   random_state=None, solver='warn', tol=0.0001, verbose=0,\n",
       "                   warm_start=False)"
      ]
     },
     "execution_count": 120,
     "metadata": {},
     "output_type": "execute_result"
    }
   ],
   "source": [
    "lr_tuned = LogisticRegression(C=1000, penalty='l2')\n",
    "lr_tuned.fit(X_train, y_train)"
   ]
  },
  {
   "cell_type": "code",
   "execution_count": 121,
   "metadata": {},
   "outputs": [
    {
     "name": "stdout",
     "output_type": "stream",
     "text": [
      "Logistic regression - tuned, got 94.10096426545661% accuracy on the test set.\n"
     ]
    }
   ],
   "source": [
    "print(\"Logistic regression - tuned, got {}% accuracy on the test set.\".format(accuracy_score(y_test, lr_tuned.predict(X_test))*100))"
   ]
  },
  {
   "cell_type": "markdown",
   "metadata": {},
   "source": [
    "## Step 2.2 Tree and forest classifiers"
   ]
  },
  {
   "cell_type": "markdown",
   "metadata": {},
   "source": [
    "### Step 2.2.1 Tree Classifier"
   ]
  },
  {
   "cell_type": "code",
   "execution_count": 122,
   "metadata": {},
   "outputs": [],
   "source": [
    "from sklearn.tree import DecisionTreeClassifier"
   ]
  },
  {
   "cell_type": "code",
   "execution_count": 123,
   "metadata": {},
   "outputs": [
    {
     "data": {
      "text/plain": [
       "DecisionTreeClassifier(class_weight=None, criterion='gini', max_depth=None,\n",
       "                       max_features=None, max_leaf_nodes=None,\n",
       "                       min_impurity_decrease=0.0, min_impurity_split=None,\n",
       "                       min_samples_leaf=1, min_samples_split=2,\n",
       "                       min_weight_fraction_leaf=0.0, presort=False,\n",
       "                       random_state=None, splitter='best')"
      ]
     },
     "execution_count": 123,
     "metadata": {},
     "output_type": "execute_result"
    }
   ],
   "source": [
    "dtc = DecisionTreeClassifier()\n",
    "dtc.fit(X_train, y_train)"
   ]
  },
  {
   "cell_type": "code",
   "execution_count": 124,
   "metadata": {},
   "outputs": [
    {
     "name": "stdout",
     "output_type": "stream",
     "text": [
      "Decision tree classifier, got 98.69540555870675% accuracy on the test set.\n"
     ]
    }
   ],
   "source": [
    "print(\"Decision tree classifier, got {}% accuracy on the test set.\".format(accuracy_score(y_test, dtc.predict(X_test))*100))"
   ]
  },
  {
   "cell_type": "markdown",
   "metadata": {},
   "source": [
    "### Steo 2.2.2 Forest"
   ]
  },
  {
   "cell_type": "code",
   "execution_count": 125,
   "metadata": {},
   "outputs": [],
   "source": [
    "from sklearn.ensemble import RandomForestClassifier"
   ]
  },
  {
   "cell_type": "code",
   "execution_count": 126,
   "metadata": {},
   "outputs": [
    {
     "data": {
      "text/plain": [
       "RandomForestClassifier(bootstrap=True, class_weight=None, criterion='gini',\n",
       "                       max_depth=None, max_features='auto', max_leaf_nodes=None,\n",
       "                       min_impurity_decrease=0.0, min_impurity_split=None,\n",
       "                       min_samples_leaf=1, min_samples_split=2,\n",
       "                       min_weight_fraction_leaf=0.0, n_estimators=350,\n",
       "                       n_jobs=None, oob_score=False, random_state=None,\n",
       "                       verbose=0, warm_start=False)"
      ]
     },
     "execution_count": 126,
     "metadata": {},
     "output_type": "execute_result"
    }
   ],
   "source": [
    "rfc = RandomForestClassifier(n_estimators=350)\n",
    "rfc.fit(X_train, y_train)"
   ]
  },
  {
   "cell_type": "code",
   "execution_count": 127,
   "metadata": {},
   "outputs": [
    {
     "name": "stdout",
     "output_type": "stream",
     "text": [
      "Random forest classifier, got 98.52524106636416% accuracy on the test set.\n"
     ]
    }
   ],
   "source": [
    "print(\"Random forest classifier, got {}% accuracy on the test set.\".format(accuracy_score(y_test, rfc.predict(X_test))*100))"
   ]
  },
  {
   "cell_type": "markdown",
   "metadata": {},
   "source": [
    "## Summary:"
   ]
  },
  {
   "cell_type": "markdown",
   "metadata": {},
   "source": [
    "In this task as you can see the best overall performance (accuracy) on the test set had Tree classifier. Right behind it Random Forest Classifier showed great accuracy with 98%"
   ]
  },
  {
   "cell_type": "code",
   "execution_count": 128,
   "metadata": {},
   "outputs": [],
   "source": [
    "accuracy_tree = cross_val_score(dtc, scled_features, labels, scoring='accuracy', cv=10)"
   ]
  },
  {
   "cell_type": "code",
   "execution_count": 129,
   "metadata": {},
   "outputs": [
    {
     "name": "stdout",
     "output_type": "stream",
     "text": [
      "98.87522917705549\n"
     ]
    }
   ],
   "source": [
    "print(np.mean(accuracy_tree)*100)"
   ]
  }
 ],
 "metadata": {
  "kernelspec": {
   "display_name": "Python 3",
   "language": "python",
   "name": "python3"
  },
  "language_info": {
   "codemirror_mode": {
    "name": "ipython",
    "version": 3
   },
   "file_extension": ".py",
   "mimetype": "text/x-python",
   "name": "python",
   "nbconvert_exporter": "python",
   "pygments_lexer": "ipython3",
   "version": "3.7.3"
  }
 },
 "nbformat": 4,
 "nbformat_minor": 1
}
